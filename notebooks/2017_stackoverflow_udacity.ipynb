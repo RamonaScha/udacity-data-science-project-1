{
 "cells": [
  {
   "attachments": {},
   "cell_type": "markdown",
   "metadata": {},
   "source": [
    "### Questions to answer\n",
    "1) In 2017 was the country an important factor for the possibility to work from home?\n",
    "2) Is Employment Status an indicator for a remote job?\n",
    "3) Which formal education allows most workers to have a remote job?\n",
    "4) Do smaller companies offer working remotely more often?\n",
    "5) What are the determining factors in predicting if working from home is possible?"
   ]
  },
  {
   "attachments": {},
   "cell_type": "markdown",
   "metadata": {},
   "source": [
    "First, let's read in the data and the necessary libraries."
   ]
  },
  {
   "cell_type": "code",
   "execution_count": 10,
   "metadata": {},
   "outputs": [
    {
     "name": "stdout",
     "output_type": "stream",
     "text": [
      "Name: plotly\n",
      "Version: 5.9.0\n",
      "Summary: An open-source, interactive data visualization library for Python\n",
      "Home-page: https://plotly.com/python/\n",
      "Author: Chris P\n",
      "Author-email: chris@plot.ly\n",
      "License: MIT\n",
      "Location: c:\\users\\ramona\\anaconda3\\lib\\site-packages\n",
      "Requires: tenacity\n",
      "Required-by: \n"
     ]
    }
   ],
   "source": [
    "!pip show plotly"
   ]
  },
  {
   "cell_type": "code",
   "execution_count": 3,
   "metadata": {},
   "outputs": [],
   "source": [
    "import os\n",
    "\n",
    "import numpy as np\n",
    "import pandas as pd\n",
    "import matplotlib.pyplot as plt\n",
    "import seaborn as sns\n",
    "from sklearn.model_selection import train_test_split\n",
    "from sklearn.metrics import confusion_matrix, accuracy_score, precision_score, recall_score, ConfusionMatrixDisplay\n",
    "from sklearn.ensemble import RandomForestClassifier\n",
    "from sklearn.metrics import accuracy_score\n",
    "%matplotlib inline"
   ]
  },
  {
   "attachments": {},
   "cell_type": "markdown",
   "metadata": {},
   "source": [
    "## Gather data"
   ]
  },
  {
   "attachments": {},
   "cell_type": "markdown",
   "metadata": {},
   "source": [
    "I decided to work with the Stackoverflow survey 2017 as it contains the information about working from home that I am most curious about"
   ]
  },
  {
   "cell_type": "code",
   "execution_count": 4,
   "metadata": {},
   "outputs": [
    {
     "name": "stdout",
     "output_type": "stream",
     "text": [
      "c:\\Users\\Ramona\\Documents\\Vs_code projects\\Udacity_project\\udacity-data-science-project-1\\notebooks\n"
     ]
    }
   ],
   "source": [
    "print(os.getcwd())  # get current working directory\n"
   ]
  },
  {
   "cell_type": "code",
   "execution_count": 5,
   "metadata": {},
   "outputs": [],
   "source": [
    "# Load in data\n",
    "df = pd.read_csv(\"../data/survey_results_public.csv\")\n"
   ]
  },
  {
   "attachments": {},
   "cell_type": "markdown",
   "metadata": {},
   "source": [
    "## Assess data"
   ]
  },
  {
   "cell_type": "code",
   "execution_count": 6,
   "metadata": {},
   "outputs": [
    {
     "data": {
      "text/html": [
       "<div>\n",
       "<style scoped>\n",
       "    .dataframe tbody tr th:only-of-type {\n",
       "        vertical-align: middle;\n",
       "    }\n",
       "\n",
       "    .dataframe tbody tr th {\n",
       "        vertical-align: top;\n",
       "    }\n",
       "\n",
       "    .dataframe thead th {\n",
       "        text-align: right;\n",
       "    }\n",
       "</style>\n",
       "<table border=\"1\" class=\"dataframe\">\n",
       "  <thead>\n",
       "    <tr style=\"text-align: right;\">\n",
       "      <th></th>\n",
       "      <th>Respondent</th>\n",
       "      <th>Professional</th>\n",
       "      <th>ProgramHobby</th>\n",
       "      <th>Country</th>\n",
       "      <th>University</th>\n",
       "      <th>EmploymentStatus</th>\n",
       "      <th>FormalEducation</th>\n",
       "      <th>MajorUndergrad</th>\n",
       "      <th>HomeRemote</th>\n",
       "      <th>CompanySize</th>\n",
       "      <th>...</th>\n",
       "      <th>StackOverflowMakeMoney</th>\n",
       "      <th>Gender</th>\n",
       "      <th>HighestEducationParents</th>\n",
       "      <th>Race</th>\n",
       "      <th>SurveyLong</th>\n",
       "      <th>QuestionsInteresting</th>\n",
       "      <th>QuestionsConfusing</th>\n",
       "      <th>InterestedAnswers</th>\n",
       "      <th>Salary</th>\n",
       "      <th>ExpectedSalary</th>\n",
       "    </tr>\n",
       "  </thead>\n",
       "  <tbody>\n",
       "    <tr>\n",
       "      <th>0</th>\n",
       "      <td>1</td>\n",
       "      <td>Student</td>\n",
       "      <td>Yes, both</td>\n",
       "      <td>United States</td>\n",
       "      <td>No</td>\n",
       "      <td>Not employed, and not looking for work</td>\n",
       "      <td>Secondary school</td>\n",
       "      <td>NaN</td>\n",
       "      <td>NaN</td>\n",
       "      <td>NaN</td>\n",
       "      <td>...</td>\n",
       "      <td>Strongly disagree</td>\n",
       "      <td>Male</td>\n",
       "      <td>High school</td>\n",
       "      <td>White or of European descent</td>\n",
       "      <td>Strongly disagree</td>\n",
       "      <td>Strongly agree</td>\n",
       "      <td>Disagree</td>\n",
       "      <td>Strongly agree</td>\n",
       "      <td>NaN</td>\n",
       "      <td>NaN</td>\n",
       "    </tr>\n",
       "    <tr>\n",
       "      <th>1</th>\n",
       "      <td>2</td>\n",
       "      <td>Student</td>\n",
       "      <td>Yes, both</td>\n",
       "      <td>United Kingdom</td>\n",
       "      <td>Yes, full-time</td>\n",
       "      <td>Employed part-time</td>\n",
       "      <td>Some college/university study without earning ...</td>\n",
       "      <td>Computer science or software engineering</td>\n",
       "      <td>More than half, but not all, the time</td>\n",
       "      <td>20 to 99 employees</td>\n",
       "      <td>...</td>\n",
       "      <td>Strongly disagree</td>\n",
       "      <td>Male</td>\n",
       "      <td>A master's degree</td>\n",
       "      <td>White or of European descent</td>\n",
       "      <td>Somewhat agree</td>\n",
       "      <td>Somewhat agree</td>\n",
       "      <td>Disagree</td>\n",
       "      <td>Strongly agree</td>\n",
       "      <td>NaN</td>\n",
       "      <td>37500.0</td>\n",
       "    </tr>\n",
       "    <tr>\n",
       "      <th>2</th>\n",
       "      <td>3</td>\n",
       "      <td>Professional developer</td>\n",
       "      <td>Yes, both</td>\n",
       "      <td>United Kingdom</td>\n",
       "      <td>No</td>\n",
       "      <td>Employed full-time</td>\n",
       "      <td>Bachelor's degree</td>\n",
       "      <td>Computer science or software engineering</td>\n",
       "      <td>Less than half the time, but at least one day ...</td>\n",
       "      <td>10,000 or more employees</td>\n",
       "      <td>...</td>\n",
       "      <td>Disagree</td>\n",
       "      <td>Male</td>\n",
       "      <td>A professional degree</td>\n",
       "      <td>White or of European descent</td>\n",
       "      <td>Somewhat agree</td>\n",
       "      <td>Agree</td>\n",
       "      <td>Disagree</td>\n",
       "      <td>Agree</td>\n",
       "      <td>113750.0</td>\n",
       "      <td>NaN</td>\n",
       "    </tr>\n",
       "    <tr>\n",
       "      <th>3</th>\n",
       "      <td>4</td>\n",
       "      <td>Professional non-developer who sometimes write...</td>\n",
       "      <td>Yes, both</td>\n",
       "      <td>United States</td>\n",
       "      <td>No</td>\n",
       "      <td>Employed full-time</td>\n",
       "      <td>Doctoral degree</td>\n",
       "      <td>A non-computer-focused engineering discipline</td>\n",
       "      <td>Less than half the time, but at least one day ...</td>\n",
       "      <td>10,000 or more employees</td>\n",
       "      <td>...</td>\n",
       "      <td>Disagree</td>\n",
       "      <td>Male</td>\n",
       "      <td>A doctoral degree</td>\n",
       "      <td>White or of European descent</td>\n",
       "      <td>Agree</td>\n",
       "      <td>Agree</td>\n",
       "      <td>Somewhat agree</td>\n",
       "      <td>Strongly agree</td>\n",
       "      <td>NaN</td>\n",
       "      <td>NaN</td>\n",
       "    </tr>\n",
       "    <tr>\n",
       "      <th>4</th>\n",
       "      <td>5</td>\n",
       "      <td>Professional developer</td>\n",
       "      <td>Yes, I program as a hobby</td>\n",
       "      <td>Switzerland</td>\n",
       "      <td>No</td>\n",
       "      <td>Employed full-time</td>\n",
       "      <td>Master's degree</td>\n",
       "      <td>Computer science or software engineering</td>\n",
       "      <td>Never</td>\n",
       "      <td>10 to 19 employees</td>\n",
       "      <td>...</td>\n",
       "      <td>NaN</td>\n",
       "      <td>NaN</td>\n",
       "      <td>NaN</td>\n",
       "      <td>NaN</td>\n",
       "      <td>NaN</td>\n",
       "      <td>NaN</td>\n",
       "      <td>NaN</td>\n",
       "      <td>NaN</td>\n",
       "      <td>NaN</td>\n",
       "      <td>NaN</td>\n",
       "    </tr>\n",
       "  </tbody>\n",
       "</table>\n",
       "<p>5 rows × 154 columns</p>\n",
       "</div>"
      ],
      "text/plain": [
       "   Respondent                                       Professional  \\\n",
       "0           1                                            Student   \n",
       "1           2                                            Student   \n",
       "2           3                             Professional developer   \n",
       "3           4  Professional non-developer who sometimes write...   \n",
       "4           5                             Professional developer   \n",
       "\n",
       "                ProgramHobby         Country      University  \\\n",
       "0                  Yes, both   United States              No   \n",
       "1                  Yes, both  United Kingdom  Yes, full-time   \n",
       "2                  Yes, both  United Kingdom              No   \n",
       "3                  Yes, both   United States              No   \n",
       "4  Yes, I program as a hobby     Switzerland              No   \n",
       "\n",
       "                         EmploymentStatus  \\\n",
       "0  Not employed, and not looking for work   \n",
       "1                      Employed part-time   \n",
       "2                      Employed full-time   \n",
       "3                      Employed full-time   \n",
       "4                      Employed full-time   \n",
       "\n",
       "                                     FormalEducation  \\\n",
       "0                                   Secondary school   \n",
       "1  Some college/university study without earning ...   \n",
       "2                                  Bachelor's degree   \n",
       "3                                    Doctoral degree   \n",
       "4                                    Master's degree   \n",
       "\n",
       "                                  MajorUndergrad  \\\n",
       "0                                            NaN   \n",
       "1       Computer science or software engineering   \n",
       "2       Computer science or software engineering   \n",
       "3  A non-computer-focused engineering discipline   \n",
       "4       Computer science or software engineering   \n",
       "\n",
       "                                          HomeRemote  \\\n",
       "0                                                NaN   \n",
       "1              More than half, but not all, the time   \n",
       "2  Less than half the time, but at least one day ...   \n",
       "3  Less than half the time, but at least one day ...   \n",
       "4                                              Never   \n",
       "\n",
       "                CompanySize  ... StackOverflowMakeMoney Gender  \\\n",
       "0                       NaN  ...      Strongly disagree   Male   \n",
       "1        20 to 99 employees  ...      Strongly disagree   Male   \n",
       "2  10,000 or more employees  ...               Disagree   Male   \n",
       "3  10,000 or more employees  ...               Disagree   Male   \n",
       "4        10 to 19 employees  ...                    NaN    NaN   \n",
       "\n",
       "  HighestEducationParents                          Race         SurveyLong  \\\n",
       "0             High school  White or of European descent  Strongly disagree   \n",
       "1       A master's degree  White or of European descent     Somewhat agree   \n",
       "2   A professional degree  White or of European descent     Somewhat agree   \n",
       "3       A doctoral degree  White or of European descent              Agree   \n",
       "4                     NaN                           NaN                NaN   \n",
       "\n",
       "  QuestionsInteresting QuestionsConfusing InterestedAnswers    Salary  \\\n",
       "0       Strongly agree           Disagree    Strongly agree       NaN   \n",
       "1       Somewhat agree           Disagree    Strongly agree       NaN   \n",
       "2                Agree           Disagree             Agree  113750.0   \n",
       "3                Agree     Somewhat agree    Strongly agree       NaN   \n",
       "4                  NaN                NaN               NaN       NaN   \n",
       "\n",
       "   ExpectedSalary  \n",
       "0             NaN  \n",
       "1         37500.0  \n",
       "2             NaN  \n",
       "3             NaN  \n",
       "4             NaN  \n",
       "\n",
       "[5 rows x 154 columns]"
      ]
     },
     "execution_count": 6,
     "metadata": {},
     "output_type": "execute_result"
    }
   ],
   "source": [
    "# Take a look at the data\n",
    "df.head()\n"
   ]
  },
  {
   "cell_type": "code",
   "execution_count": 7,
   "metadata": {},
   "outputs": [
    {
     "name": "stdout",
     "output_type": "stream",
     "text": [
      "<class 'pandas.core.frame.DataFrame'>\n",
      "RangeIndex: 51392 entries, 0 to 51391\n",
      "Columns: 154 entries, Respondent to ExpectedSalary\n",
      "dtypes: float64(6), int64(1), object(147)\n",
      "memory usage: 60.4+ MB\n"
     ]
    }
   ],
   "source": [
    "df.info()"
   ]
  },
  {
   "cell_type": "code",
   "execution_count": 8,
   "metadata": {},
   "outputs": [
    {
     "name": "stdout",
     "output_type": "stream",
     "text": [
      "Number of rows: 51392 \n",
      "Number of columns: 154\n"
     ]
    }
   ],
   "source": [
    "# check the number of rows and columns\n",
    "num_rows_n = df.shape[0]  # Provide the number of rows in the dataset\n",
    "num_cols_n = df.shape[1]  # Provide the number of columns in the dataset\n",
    "print(f\"Number of rows: {num_rows_n} \\nNumber of columns: {num_cols_n}\")\n"
   ]
  },
  {
   "cell_type": "code",
   "execution_count": 9,
   "metadata": {},
   "outputs": [
    {
     "data": {
      "text/html": [
       "<div>\n",
       "<style scoped>\n",
       "    .dataframe tbody tr th:only-of-type {\n",
       "        vertical-align: middle;\n",
       "    }\n",
       "\n",
       "    .dataframe tbody tr th {\n",
       "        vertical-align: top;\n",
       "    }\n",
       "\n",
       "    .dataframe thead th {\n",
       "        text-align: right;\n",
       "    }\n",
       "</style>\n",
       "<table border=\"1\" class=\"dataframe\">\n",
       "  <thead>\n",
       "    <tr style=\"text-align: right;\">\n",
       "      <th></th>\n",
       "      <th>Respondent</th>\n",
       "      <th>CareerSatisfaction</th>\n",
       "      <th>JobSatisfaction</th>\n",
       "      <th>HoursPerWeek</th>\n",
       "      <th>StackOverflowSatisfaction</th>\n",
       "      <th>Salary</th>\n",
       "      <th>ExpectedSalary</th>\n",
       "    </tr>\n",
       "  </thead>\n",
       "  <tbody>\n",
       "    <tr>\n",
       "      <th>count</th>\n",
       "      <td>51392.000000</td>\n",
       "      <td>42695.000000</td>\n",
       "      <td>40376.000000</td>\n",
       "      <td>20600.000000</td>\n",
       "      <td>36592.000000</td>\n",
       "      <td>12891.000000</td>\n",
       "      <td>2566.000000</td>\n",
       "    </tr>\n",
       "    <tr>\n",
       "      <th>mean</th>\n",
       "      <td>25696.500000</td>\n",
       "      <td>7.300574</td>\n",
       "      <td>6.957078</td>\n",
       "      <td>3.952282</td>\n",
       "      <td>8.429875</td>\n",
       "      <td>56298.480641</td>\n",
       "      <td>33142.220468</td>\n",
       "    </tr>\n",
       "    <tr>\n",
       "      <th>std</th>\n",
       "      <td>14835.736854</td>\n",
       "      <td>1.955444</td>\n",
       "      <td>2.167652</td>\n",
       "      <td>7.564722</td>\n",
       "      <td>1.390635</td>\n",
       "      <td>39880.905277</td>\n",
       "      <td>30162.988829</td>\n",
       "    </tr>\n",
       "    <tr>\n",
       "      <th>min</th>\n",
       "      <td>1.000000</td>\n",
       "      <td>0.000000</td>\n",
       "      <td>0.000000</td>\n",
       "      <td>0.000000</td>\n",
       "      <td>0.000000</td>\n",
       "      <td>0.000000</td>\n",
       "      <td>0.000000</td>\n",
       "    </tr>\n",
       "    <tr>\n",
       "      <th>25%</th>\n",
       "      <td>12848.750000</td>\n",
       "      <td>6.000000</td>\n",
       "      <td>6.000000</td>\n",
       "      <td>1.000000</td>\n",
       "      <td>8.000000</td>\n",
       "      <td>26440.371839</td>\n",
       "      <td>4490.492484</td>\n",
       "    </tr>\n",
       "    <tr>\n",
       "      <th>50%</th>\n",
       "      <td>25696.500000</td>\n",
       "      <td>8.000000</td>\n",
       "      <td>7.000000</td>\n",
       "      <td>1.000000</td>\n",
       "      <td>9.000000</td>\n",
       "      <td>50000.000000</td>\n",
       "      <td>29364.263691</td>\n",
       "    </tr>\n",
       "    <tr>\n",
       "      <th>75%</th>\n",
       "      <td>38544.250000</td>\n",
       "      <td>9.000000</td>\n",
       "      <td>8.000000</td>\n",
       "      <td>4.000000</td>\n",
       "      <td>10.000000</td>\n",
       "      <td>80000.000000</td>\n",
       "      <td>50403.225806</td>\n",
       "    </tr>\n",
       "    <tr>\n",
       "      <th>max</th>\n",
       "      <td>51392.000000</td>\n",
       "      <td>10.000000</td>\n",
       "      <td>10.000000</td>\n",
       "      <td>40.000000</td>\n",
       "      <td>10.000000</td>\n",
       "      <td>197000.000000</td>\n",
       "      <td>187500.000000</td>\n",
       "    </tr>\n",
       "  </tbody>\n",
       "</table>\n",
       "</div>"
      ],
      "text/plain": [
       "         Respondent  CareerSatisfaction  JobSatisfaction  HoursPerWeek  \\\n",
       "count  51392.000000        42695.000000     40376.000000  20600.000000   \n",
       "mean   25696.500000            7.300574         6.957078      3.952282   \n",
       "std    14835.736854            1.955444         2.167652      7.564722   \n",
       "min        1.000000            0.000000         0.000000      0.000000   \n",
       "25%    12848.750000            6.000000         6.000000      1.000000   \n",
       "50%    25696.500000            8.000000         7.000000      1.000000   \n",
       "75%    38544.250000            9.000000         8.000000      4.000000   \n",
       "max    51392.000000           10.000000        10.000000     40.000000   \n",
       "\n",
       "       StackOverflowSatisfaction         Salary  ExpectedSalary  \n",
       "count               36592.000000   12891.000000     2566.000000  \n",
       "mean                    8.429875   56298.480641    33142.220468  \n",
       "std                     1.390635   39880.905277    30162.988829  \n",
       "min                     0.000000       0.000000        0.000000  \n",
       "25%                     8.000000   26440.371839     4490.492484  \n",
       "50%                     9.000000   50000.000000    29364.263691  \n",
       "75%                    10.000000   80000.000000    50403.225806  \n",
       "max                    10.000000  197000.000000   187500.000000  "
      ]
     },
     "execution_count": 9,
     "metadata": {},
     "output_type": "execute_result"
    }
   ],
   "source": [
    "# Taking a look at numeric data\n",
    "df.describe()\n"
   ]
  },
  {
   "cell_type": "code",
   "execution_count": 10,
   "metadata": {},
   "outputs": [
    {
     "data": {
      "text/html": [
       "<div>\n",
       "<style scoped>\n",
       "    .dataframe tbody tr th:only-of-type {\n",
       "        vertical-align: middle;\n",
       "    }\n",
       "\n",
       "    .dataframe tbody tr th {\n",
       "        vertical-align: top;\n",
       "    }\n",
       "\n",
       "    .dataframe thead th {\n",
       "        text-align: right;\n",
       "    }\n",
       "</style>\n",
       "<table border=\"1\" class=\"dataframe\">\n",
       "  <thead>\n",
       "    <tr style=\"text-align: right;\">\n",
       "      <th></th>\n",
       "      <th>Column</th>\n",
       "      <th>Question</th>\n",
       "    </tr>\n",
       "  </thead>\n",
       "  <tbody>\n",
       "    <tr>\n",
       "      <th>0</th>\n",
       "      <td>Respondent</td>\n",
       "      <td>Respondent ID number</td>\n",
       "    </tr>\n",
       "    <tr>\n",
       "      <th>1</th>\n",
       "      <td>Professional</td>\n",
       "      <td>Which of the following best describes you?</td>\n",
       "    </tr>\n",
       "    <tr>\n",
       "      <th>2</th>\n",
       "      <td>ProgramHobby</td>\n",
       "      <td>Do you program as a hobby or contribute to ope...</td>\n",
       "    </tr>\n",
       "    <tr>\n",
       "      <th>3</th>\n",
       "      <td>Country</td>\n",
       "      <td>In which country do you currently live?</td>\n",
       "    </tr>\n",
       "    <tr>\n",
       "      <th>4</th>\n",
       "      <td>University</td>\n",
       "      <td>Are you currently enrolled in a formal, degree...</td>\n",
       "    </tr>\n",
       "  </tbody>\n",
       "</table>\n",
       "</div>"
      ],
      "text/plain": [
       "         Column                                           Question\n",
       "0    Respondent                               Respondent ID number\n",
       "1  Professional         Which of the following best describes you?\n",
       "2  ProgramHobby  Do you program as a hobby or contribute to ope...\n",
       "3       Country            In which country do you currently live?\n",
       "4    University  Are you currently enrolled in a formal, degree..."
      ]
     },
     "execution_count": 10,
     "metadata": {},
     "output_type": "execute_result"
    }
   ],
   "source": [
    "# Load in schema\n",
    "schema = pd.read_csv(\"../data/survey_results_schema.csv\")\n",
    "schema.head()\n"
   ]
  },
  {
   "attachments": {},
   "cell_type": "markdown",
   "metadata": {},
   "source": [
    "Assessment of the Survey Results Dataset and schema: \n",
    "- To answer the above questions, I need to have a deeper understanding of the variables HomeRemote, Country, Profession, Company Size\n",
    "- To get conclusive answer, I will exclude all survey participants without jobs\n",
    "- I will take most of the above numeric datapoints in for prediction of Working Remote possibilies\n",
    "- I need to take care of missing values, especially in the Home Remote column\n",
    "- I need to filter for the top 10 countries to get interpretable answers"
   ]
  },
  {
   "attachments": {},
   "cell_type": "markdown",
   "metadata": {},
   "source": [
    "#### Look at necessary data to answer the above questions"
   ]
  },
  {
   "cell_type": "code",
   "execution_count": 11,
   "metadata": {},
   "outputs": [],
   "source": [
    "def get_description(column_name: str, schema: pd.DataFrame = schema):\n",
    "    \"\"\"\n",
    "    INPUT - schema - pandas dataframe with the schema of the developers survey\n",
    "            column_name - string - the name of the column you would like to know about\n",
    "    OUTPUT -\n",
    "            desc - string - the description of the column\n",
    "    \"\"\"\n",
    "    desc = list(schema[schema[\"Column\"] == column_name][\"Question\"])[0]\n",
    "    return desc\n"
   ]
  },
  {
   "cell_type": "code",
   "execution_count": 12,
   "metadata": {},
   "outputs": [
    {
     "name": "stdout",
     "output_type": "stream",
     "text": [
      "How often do you work from home or remotely?\n",
      "Job satisfaction rating\n",
      "What is your current annual base salary, before taxes, and excluding bonuses, grants, or other compensation?\n",
      "During a typical week, approximately how many hours do you spend on activities related to finding new job opportunities?Please adjust the slider to the appropriate number of hours. The box to the right will indicate the number of hours you have chosen.\n",
      "In which country do you currently live?\n",
      "Which of the following best describes your current employment status?\n"
     ]
    }
   ],
   "source": [
    "# get description of the columns of interest\n",
    "col_list = [\"HomeRemote\", \"JobSatisfaction\", \"Salary\", \"HoursPerWeek\", \"Country\",\"EmploymentStatus\"]\n",
    "for i in col_list:\n",
    "    print(get_description(i))\n"
   ]
  },
  {
   "cell_type": "code",
   "execution_count": 13,
   "metadata": {},
   "outputs": [
    {
     "data": {
      "text/plain": [
       "HomeRemote           object\n",
       "JobSatisfaction     float64\n",
       "Salary              float64\n",
       "HoursPerWeek        float64\n",
       "Country              object\n",
       "EmploymentStatus     object\n",
       "dtype: object"
      ]
     },
     "execution_count": 13,
     "metadata": {},
     "output_type": "execute_result"
    }
   ],
   "source": [
    "# look at data types\n",
    "df[[\"HomeRemote\", \"JobSatisfaction\", \"Salary\", \"HoursPerWeek\", \"Country\",\"EmploymentStatus\"]].dtypes\n"
   ]
  },
  {
   "attachments": {},
   "cell_type": "markdown",
   "metadata": {},
   "source": [
    "Dependent on the datatype the data cleaning process will look different"
   ]
  },
  {
   "cell_type": "code",
   "execution_count": 14,
   "metadata": {},
   "outputs": [
    {
     "data": {
      "text/plain": [
       "Employed full-time                                      36148\n",
       "Independent contractor, freelancer, or self-employed     5233\n",
       "Employed part-time                                       3180\n",
       "Not employed, and not looking for work                   2791\n",
       "Not employed, but looking for work                       2786\n",
       "I prefer not to say                                      1086\n",
       "Retired                                                   168\n",
       "Name: EmploymentStatus, dtype: int64"
      ]
     },
     "execution_count": 14,
     "metadata": {},
     "output_type": "execute_result"
    }
   ],
   "source": [
    "# It is necessary to exclude based on employment status \n",
    "df[\"EmploymentStatus\"].value_counts()"
   ]
  },
  {
   "cell_type": "code",
   "execution_count": 15,
   "metadata": {},
   "outputs": [
    {
     "name": "stdout",
     "output_type": "stream",
     "text": [
      "A few days each month                                      15454\n",
      "Never                                                      13975\n",
      "All or almost all the time (I'm full-time remote)           4905\n",
      "Less than half the time, but at least one day each week     4147\n",
      "More than half, but not all, the time                       1909\n",
      "It's complicated                                            1849\n",
      "About half the time                                         1769\n",
      "Name: HomeRemote, dtype: int64\n"
     ]
    },
    {
     "data": {
      "text/plain": [
       "Text(0.5, 1.0, 'How often do you work from home or remotely?')"
      ]
     },
     "execution_count": 15,
     "metadata": {},
     "output_type": "execute_result"
    },
    {
     "data": {
      "image/png": "[encoded data removed]",
      "text/plain": [
       "<Figure size 640x480 with 1 Axes>"
      ]
     },
     "metadata": {},
     "output_type": "display_data"
    }
   ],
   "source": [
    "# some graphs for Home Remote\n",
    "status_vals = df.HomeRemote.value_counts()\n",
    "print(status_vals)\n",
    "(status_vals / df.shape[0]).plot(kind=\"bar\")\n",
    "plt.title(\"How often do you work from home or remotely?\")\n"
   ]
  },
  {
   "attachments": {},
   "cell_type": "markdown",
   "metadata": {},
   "source": [
    "## Data Cleaning and Preparation"
   ]
  },
  {
   "cell_type": "code",
   "execution_count": 16,
   "metadata": {},
   "outputs": [
    {
     "data": {
      "text/plain": [
       "0.8563200498132005"
      ]
     },
     "execution_count": 16,
     "metadata": {},
     "output_type": "execute_result"
    }
   ],
   "source": [
    "# To prepare data cleaning we first need to know how many answers we have to the Home Remote question\n",
    "prop_home_remote = 1 - df.isnull()[\"HomeRemote\"].mean()\n",
    "prop_home_remote\n"
   ]
  },
  {
   "attachments": {},
   "cell_type": "markdown",
   "metadata": {},
   "source": [
    "~86% of participants, answered the question. As this will be my outcome variable I want to predict on later, I decide to delete rows with no answers on the HomeRemote question"
   ]
  },
  {
   "cell_type": "code",
   "execution_count": 17,
   "metadata": {},
   "outputs": [
    {
     "data": {
      "text/plain": [
       "1.0"
      ]
     },
     "execution_count": 17,
     "metadata": {},
     "output_type": "execute_result"
    }
   ],
   "source": [
    "# drop all columns of participants without entries to the HomeRemote question\n",
    "hr = df.dropna(subset=[\"HomeRemote\"], axis=0)\n",
    "# check\n",
    "1 - hr.isnull()[\"HomeRemote\"].mean()"
   ]
  },
  {
   "cell_type": "code",
   "execution_count": 18,
   "metadata": {},
   "outputs": [],
   "source": [
    "# It also makes sense only to include participants who are full-time or part-time or independent contractor, freelancer, or self-employed\n",
    "hr = hr[hr[\"EmploymentStatus\"].isin([\"Employed part-time\", \"Employed full-time\",\"Independent contractor, freelancer, or self-employed\"])]\n"
   ]
  },
  {
   "attachments": {},
   "cell_type": "markdown",
   "metadata": {},
   "source": [
    "#### The above values do not really help to answer my first question, that is why I decided to categorize the answers"
   ]
  },
  {
   "cell_type": "code",
   "execution_count": 19,
   "metadata": {},
   "outputs": [
    {
     "data": {
      "text/plain": [
       "1    1\n",
       "2    1\n",
       "3    1\n",
       "4    0\n",
       "6    1\n",
       "Name: HomeRemote, dtype: int64"
      ]
     },
     "execution_count": 19,
     "metadata": {},
     "output_type": "execute_result"
    }
   ],
   "source": [
    "# In order to predict working from home later, I decide to create a new categorical variable\n",
    "def remote_possible(home_cat):\n",
    "    \"\"\"\n",
    "    INPUT\n",
    "        home_cat - HomeRemote categorical input\n",
    "\n",
    "    OUTPUT\n",
    "        return 1 if the category falls into 'it is possible to work from home without problems'\n",
    "        return 0 otherwise\n",
    "\n",
    "    \"\"\"\n",
    "    if home_cat in (\n",
    "        \"A few days each month\",\n",
    "        \"All or almost all the time (I'm full-time remote)\",\n",
    "        \"More than half, but not all, the time\",\n",
    "        \"About half the time\",\n",
    "        \"Less than half the time, but at least one day each week\",\n",
    "    ):\n",
    "        return 1\n",
    "    else:\n",
    "        return 0\n",
    "\n",
    "\n",
    "hr[\"HomeRemote\"].apply(remote_possible)[\n",
    "    :5\n",
    "]  # Test of the function if it only provided 1 and 0\n"
   ]
  },
  {
   "cell_type": "code",
   "execution_count": 20,
   "metadata": {},
   "outputs": [],
   "source": [
    "# create a variable out of the function above \n",
    "hr['RemotePossible']=hr[\"HomeRemote\"].apply(remote_possible)"
   ]
  },
  {
   "cell_type": "code",
   "execution_count": 21,
   "metadata": {},
   "outputs": [
    {
     "data": {
      "text/plain": [
       "0.640421856532412"
      ]
     },
     "execution_count": 21,
     "metadata": {},
     "output_type": "execute_result"
    }
   ],
   "source": [
    "# Show percentage of workers with possibility to work from home\n",
    "remote_perc = hr[\"RemotePossible\"].mean()\n",
    "remote_perc"
   ]
  },
  {
   "attachments": {},
   "cell_type": "markdown",
   "metadata": {},
   "source": [
    "64% of the respondents are able to work from home."
   ]
  },
  {
   "attachments": {},
   "cell_type": "markdown",
   "metadata": {},
   "source": [
    "For the first question I am  interested in country data "
   ]
  },
  {
   "cell_type": "code",
   "execution_count": 22,
   "metadata": {},
   "outputs": [
    {
     "data": {
      "text/plain": [
       "Text(0.5, 1.0, 'Country')"
      ]
     },
     "execution_count": 22,
     "metadata": {},
     "output_type": "execute_result"
    },
    {
     "data": {
      "image/png": "[encoded data removed]",
      "text/plain": [
       "<Figure size 640x480 with 1 Axes>"
      ]
     },
     "metadata": {},
     "output_type": "display_data"
    }
   ],
   "source": [
    "# First, I will look at the top 10 countries of participants\n",
    "count_vals = hr.Country.value_counts()\n",
    "(count_vals[:10] / hr.shape[0]).plot(kind=\"bar\")\n",
    "plt.title(\"Country\")\n"
   ]
  },
  {
   "cell_type": "code",
   "execution_count": 23,
   "metadata": {},
   "outputs": [
    {
     "data": {
      "text/plain": [
       "Country\n",
       "Cayman Islands      0.0\n",
       "Saint Lucia         0.0\n",
       "Reunion (French)    0.0\n",
       "Bermuda             0.0\n",
       "Falkland Islands    0.0\n",
       "                   ... \n",
       "Swaziland           1.0\n",
       "Eritrea             1.0\n",
       "Macau               1.0\n",
       "Cape Verde          1.0\n",
       "Sudan               1.0\n",
       "Name: RemotePossible, Length: 188, dtype: float64"
      ]
     },
     "execution_count": 23,
     "metadata": {},
     "output_type": "execute_result"
    }
   ],
   "source": [
    "rp_country = hr.groupby([\"Country\"]).mean()[\"RemotePossible\"].sort_values().dropna()\n",
    "rp_country\n"
   ]
  },
  {
   "attachments": {},
   "cell_type": "markdown",
   "metadata": {},
   "source": [
    "The above values do not give any insights, I have to restrict the countries to the top 10 to get the insightes I am searching for.\n",
    "I will group the countries and only investigate the top 10 countries of survey respondents. "
   ]
  },
  {
   "cell_type": "code",
   "execution_count": 24,
   "metadata": {},
   "outputs": [],
   "source": [
    "hr[\"country_groups\"] = np.where(\n",
    "    hr[\"Country\"].isin(\n",
    "        [\n",
    "            \"United States\",\n",
    "            \"India\",\n",
    "            \"United Kingdom\",\n",
    "            \"Germany\",\n",
    "            \"France\",\n",
    "            \"Canada\",\n",
    "            \"Poland\",\n",
    "            \"Australia\",\n",
    "            \"Russian Federation\",\n",
    "            \"Spain\",\n",
    "        ]\n",
    "    ),\n",
    "    hr[\"Country\"],\n",
    "    \"Other\",\n",
    ")\n"
   ]
  },
  {
   "cell_type": "code",
   "execution_count": 25,
   "metadata": {},
   "outputs": [
    {
     "data": {
      "text/plain": [
       "country_groups\n",
       "France                0.474565\n",
       "Spain                 0.505089\n",
       "Germany               0.568767\n",
       "United Kingdom        0.583656\n",
       "India                 0.640867\n",
       "Australia             0.643871\n",
       "Canada                0.647335\n",
       "Other                 0.647518\n",
       "Poland                0.677305\n",
       "United States         0.699621\n",
       "Russian Federation    0.735369\n",
       "Name: RemotePossible, dtype: float64"
      ]
     },
     "execution_count": 25,
     "metadata": {},
     "output_type": "execute_result"
    }
   ],
   "source": [
    "# To answer the first question, I will have a look at different countries\n",
    "hr.groupby([\"country_groups\"]).mean()[\"RemotePossible\"].sort_values().dropna()\n"
   ]
  },
  {
   "attachments": {},
   "cell_type": "markdown",
   "metadata": {},
   "source": [
    "## Analyze and Visualize"
   ]
  },
  {
   "attachments": {},
   "cell_type": "markdown",
   "metadata": {},
   "source": [
    "### Question 1: In 2017 was the country an important factor for the possibility to work from home?"
   ]
  },
  {
   "cell_type": "code",
   "execution_count": 26,
   "metadata": {},
   "outputs": [
    {
     "data": {
      "text/plain": [
       "[Text(0, 0, 'Russian Federation'),\n",
       " Text(1, 0, 'United States'),\n",
       " Text(2, 0, 'Poland'),\n",
       " Text(3, 0, 'Other'),\n",
       " Text(4, 0, 'Canada'),\n",
       " Text(5, 0, 'Australia'),\n",
       " Text(6, 0, 'India'),\n",
       " Text(7, 0, 'United Kingdom'),\n",
       " Text(8, 0, 'Germany'),\n",
       " Text(9, 0, 'Spain'),\n",
       " Text(10, 0, 'France')]"
      ]
     },
     "execution_count": 26,
     "metadata": {},
     "output_type": "execute_result"
    },
    {
     "data": {
      "image/png": "[encoded data removed]",
      "text/plain": [
       "<Figure size 640x480 with 1 Axes>"
      ]
     },
     "metadata": {},
     "output_type": "display_data"
    }
   ],
   "source": [
    "# Plot it for better visualization\n",
    "country_remote_plot = (\n",
    "    hr.groupby([\"country_groups\"])\n",
    "    .mean()[\"RemotePossible\"]\n",
    "    .sort_values(ascending=False)\n",
    "    .reset_index()\n",
    ")\n",
    "\n",
    "ax = sns.barplot(x=\"country_groups\", y=\"RemotePossible\", data=country_remote_plot)\n",
    "plt.title(\"Remote Possibility per Country\")\n",
    "ax.set_xticklabels(ax.get_xticklabels(), rotation=90)\n"
   ]
  },
  {
   "attachments": {},
   "cell_type": "markdown",
   "metadata": {},
   "source": [
    "\n",
    "Interestingly in Russia ~74%  of workers have the possibility to work from home, second rank is United States (~70%), \n",
    "Lowest rates for remote workers are in France (~47%) and Spain ~51%. Most likely this changed after 2017 with the Corona pandemic. "
   ]
  },
  {
   "attachments": {},
   "cell_type": "markdown",
   "metadata": {},
   "source": [
    "### Question 2: Is Employment Status an indicator for a remote job? "
   ]
  },
  {
   "cell_type": "code",
   "execution_count": 27,
   "metadata": {},
   "outputs": [
    {
     "data": {
      "text/plain": [
       "[Text(0, 0, 'Independent contractor, freelancer, or self-employed'),\n",
       " Text(1, 0, 'Employed part-time'),\n",
       " Text(2, 0, 'Employed full-time')]"
      ]
     },
     "execution_count": 27,
     "metadata": {},
     "output_type": "execute_result"
    },
    {
     "data": {
      "image/png": "[encoded data removed]",
      "text/plain": [
       "<Figure size 640x480 with 1 Axes>"
      ]
     },
     "metadata": {},
     "output_type": "display_data"
    }
   ],
   "source": [
    "# Plot it for better visualization\n",
    "country_remote_plot = (\n",
    "    hr.groupby([\"EmploymentStatus\"])\n",
    "    .mean()[\"RemotePossible\"]\n",
    "    .sort_values(ascending=False)\n",
    "    .reset_index()\n",
    ")\n",
    "\n",
    "ax = sns.barplot(x=\"EmploymentStatus\", y=\"RemotePossible\", data=country_remote_plot)\n",
    "plt.title(\"Remote Possibility per Employment Status\")\n",
    "ax.set_xticklabels(ax.get_xticklabels(), rotation=90)\n"
   ]
  },
  {
   "attachments": {},
   "cell_type": "markdown",
   "metadata": {},
   "source": [
    "Independent contractor, freelancer, or self-employed have by far the highest probability to work from home. Part time or full time does not seem to be an important factor. "
   ]
  },
  {
   "attachments": {},
   "cell_type": "markdown",
   "metadata": {},
   "source": [
    "I am also curious to see if the employment status is an important factor per country."
   ]
  },
  {
   "cell_type": "code",
   "execution_count": 28,
   "metadata": {},
   "outputs": [
    {
     "data": {
      "text/plain": [
       "[Text(0, 0, 'Russian Federation'),\n",
       " Text(1, 0, 'Spain'),\n",
       " Text(2, 0, 'Germany'),\n",
       " Text(3, 0, 'India'),\n",
       " Text(4, 0, 'Other'),\n",
       " Text(5, 0, 'Canada'),\n",
       " Text(6, 0, 'United States'),\n",
       " Text(7, 0, 'Australia'),\n",
       " Text(8, 0, 'France'),\n",
       " Text(9, 0, 'Poland'),\n",
       " Text(10, 0, 'United Kingdom')]"
      ]
     },
     "execution_count": 28,
     "metadata": {},
     "output_type": "execute_result"
    },
    {
     "data": {
      "image/png": "[encoded data removed]",
      "text/plain": [
       "<Figure size 640x480 with 1 Axes>"
      ]
     },
     "metadata": {},
     "output_type": "display_data"
    }
   ],
   "source": [
    "remote_employement = hr.copy()\n",
    "\n",
    "remote_employement = remote_employement[\n",
    "    remote_employement[\"EmploymentStatus\"].isin(\n",
    "        [\n",
    "            \"Employed part-time\",\n",
    "            \"Employed full-time\",\n",
    "            \"Independent contractor, freelancer, or self-employed\",\n",
    "        ]\n",
    "    )\n",
    "]\n",
    "\n",
    "\n",
    "remote_employement_plot = (\n",
    "    remote_employement.groupby([\"country_groups\", \"EmploymentStatus\"])[\"RemotePossible\"]\n",
    "    .mean()\n",
    "    .sort_values(ascending=False)\n",
    "    .reset_index()\n",
    ")\n",
    "\n",
    "ex = sns.barplot(\n",
    "    x=\"country_groups\",\n",
    "    y=\"RemotePossible\",\n",
    "    hue=\"EmploymentStatus\",\n",
    "    data=remote_employement_plot,\n",
    ")\n",
    "plt.title(\"Mean Remote Possibility by\\n Location and EmploymentStatus\")\n",
    "ex.set_xticklabels(ex.get_xticklabels(), rotation=90)\n"
   ]
  },
  {
   "attachments": {},
   "cell_type": "markdown",
   "metadata": {},
   "source": [
    "Interestingly, in all countries independent contractors, freelancers, or self-employed have the highest work from home rate. Especially in the country with lowest remote rates (e.g. Spain and France) the Employment Status is an important factor for remote workers. "
   ]
  },
  {
   "attachments": {},
   "cell_type": "markdown",
   "metadata": {},
   "source": [
    "### Question 3: Which formal education allows most workers to have a remote job?"
   ]
  },
  {
   "cell_type": "code",
   "execution_count": 29,
   "metadata": {},
   "outputs": [
    {
     "data": {
      "text/plain": [
       "FormalEducation\n",
       "Secondary school                                                     0.611065\n",
       "Professional degree                                                  0.622291\n",
       "Master's degree                                                      0.629324\n",
       "Bachelor's degree                                                    0.635385\n",
       "I prefer not to answer                                               0.641949\n",
       "Some college/university study without earning a bachelor's degree    0.668547\n",
       "Primary/elementary school                                            0.710983\n",
       "Doctoral degree                                                      0.713580\n",
       "I never completed any formal education                               0.726073\n",
       "Name: RemotePossible, dtype: float64"
      ]
     },
     "execution_count": 29,
     "metadata": {},
     "output_type": "execute_result"
    }
   ],
   "source": [
    "hr.groupby([\"FormalEducation\"]).mean()[\"RemotePossible\"].sort_values().dropna()\n"
   ]
  },
  {
   "attachments": {},
   "cell_type": "markdown",
   "metadata": {},
   "source": [
    "No, the respondents of 'I never completed any formal education have the highest remote working scores. Primary/elementary school also ranks in the top 3. It is save to say that there is no positive relationship with working from home and formal education level. "
   ]
  },
  {
   "attachments": {},
   "cell_type": "markdown",
   "metadata": {},
   "source": [
    "### Question 4: Are bigger companies allowing more employees to work remotely?"
   ]
  },
  {
   "cell_type": "code",
   "execution_count": 30,
   "metadata": {},
   "outputs": [
    {
     "data": {
      "text/plain": [
       "CompanySize\n",
       "I prefer not to answer      0.551263\n",
       "100 to 499 employees        0.581293\n",
       "I don't know                0.581882\n",
       "20 to 99 employees          0.584470\n",
       "1,000 to 4,999 employees    0.585487\n",
       "5,000 to 9,999 employees    0.589888\n",
       "500 to 999 employees        0.594845\n",
       "10 to 19 employees          0.629123\n",
       "10,000 or more employees    0.637053\n",
       "Fewer than 10 employees     0.680431\n",
       "Name: RemotePossible, dtype: float64"
      ]
     },
     "execution_count": 30,
     "metadata": {},
     "output_type": "execute_result"
    }
   ],
   "source": [
    "# For the third question I will have a look at the company size\n",
    "hr.groupby([\"CompanySize\"]).mean()[\"RemotePossible\"].sort_values().dropna()\n"
   ]
  },
  {
   "attachments": {},
   "cell_type": "markdown",
   "metadata": {},
   "source": [
    "The answer is no, there is no linear trends in smaller companies having a higher probability to work from home. The smallest companies have the highest percentile of remote workers (68%). However they are directly followed by the biggest companies. Second rank with 64% are companies with more than 10,000 employees."
   ]
  },
  {
   "cell_type": "code",
   "execution_count": 49,
   "metadata": {},
   "outputs": [
    {
     "data": {
      "text/html": [
       "<style type=\"text/css\">\n",
       "#T_d7481_row0_col0, #T_d7481_row1_col1, #T_d7481_row2_col2, #T_d7481_row3_col3, #T_d7481_row4_col4, #T_d7481_row5_col5 {\n",
       "  background-color: #b40426;\n",
       "  color: #f1f1f1;\n",
       "}\n",
       "#T_d7481_row0_col1 {\n",
       "  background-color: #f7ba9f;\n",
       "  color: #000000;\n",
       "}\n",
       "#T_d7481_row0_col2 {\n",
       "  background-color: #81a4fb;\n",
       "  color: #f1f1f1;\n",
       "}\n",
       "#T_d7481_row0_col3 {\n",
       "  background-color: #445acc;\n",
       "  color: #f1f1f1;\n",
       "}\n",
       "#T_d7481_row0_col4 {\n",
       "  background-color: #5b7ae5;\n",
       "  color: #f1f1f1;\n",
       "}\n",
       "#T_d7481_row0_col5 {\n",
       "  background-color: #6b8df0;\n",
       "  color: #f1f1f1;\n",
       "}\n",
       "#T_d7481_row1_col0 {\n",
       "  background-color: #f7b599;\n",
       "  color: #000000;\n",
       "}\n",
       "#T_d7481_row1_col2 {\n",
       "  background-color: #8caffe;\n",
       "  color: #000000;\n",
       "}\n",
       "#T_d7481_row1_col3 {\n",
       "  background-color: #506bda;\n",
       "  color: #f1f1f1;\n",
       "}\n",
       "#T_d7481_row1_col4 {\n",
       "  background-color: #5d7ce6;\n",
       "  color: #f1f1f1;\n",
       "}\n",
       "#T_d7481_row1_col5 {\n",
       "  background-color: #80a3fa;\n",
       "  color: #f1f1f1;\n",
       "}\n",
       "#T_d7481_row2_col0, #T_d7481_row5_col1 {\n",
       "  background-color: #7699f6;\n",
       "  color: #f1f1f1;\n",
       "}\n",
       "#T_d7481_row2_col1 {\n",
       "  background-color: #779af7;\n",
       "  color: #f1f1f1;\n",
       "}\n",
       "#T_d7481_row2_col3, #T_d7481_row2_col5, #T_d7481_row3_col0, #T_d7481_row3_col1, #T_d7481_row3_col2, #T_d7481_row5_col4 {\n",
       "  background-color: #3b4cc0;\n",
       "  color: #f1f1f1;\n",
       "}\n",
       "#T_d7481_row2_col4 {\n",
       "  background-color: #6f92f3;\n",
       "  color: #f1f1f1;\n",
       "}\n",
       "#T_d7481_row3_col4 {\n",
       "  background-color: #465ecf;\n",
       "  color: #f1f1f1;\n",
       "}\n",
       "#T_d7481_row3_col5, #T_d7481_row4_col5 {\n",
       "  background-color: #4f69d9;\n",
       "  color: #f1f1f1;\n",
       "}\n",
       "#T_d7481_row4_col0 {\n",
       "  background-color: #7093f3;\n",
       "  color: #f1f1f1;\n",
       "}\n",
       "#T_d7481_row4_col1, #T_d7481_row4_col3 {\n",
       "  background-color: #6687ed;\n",
       "  color: #f1f1f1;\n",
       "}\n",
       "#T_d7481_row4_col2 {\n",
       "  background-color: #8db0fe;\n",
       "  color: #000000;\n",
       "}\n",
       "#T_d7481_row5_col0 {\n",
       "  background-color: #6c8ff1;\n",
       "  color: #f1f1f1;\n",
       "}\n",
       "#T_d7481_row5_col2 {\n",
       "  background-color: #455cce;\n",
       "  color: #f1f1f1;\n",
       "}\n",
       "#T_d7481_row5_col3 {\n",
       "  background-color: #5a78e4;\n",
       "  color: #f1f1f1;\n",
       "}\n",
       "</style>\n",
       "<table id=\"T_d7481\">\n",
       "  <thead>\n",
       "    <tr>\n",
       "      <th class=\"blank level0\" >&nbsp;</th>\n",
       "      <th id=\"T_d7481_level0_col0\" class=\"col_heading level0 col0\" >JobSatisfaction</th>\n",
       "      <th id=\"T_d7481_level0_col1\" class=\"col_heading level0 col1\" >CareerSatisfaction</th>\n",
       "      <th id=\"T_d7481_level0_col2\" class=\"col_heading level0 col2\" >Salary</th>\n",
       "      <th id=\"T_d7481_level0_col3\" class=\"col_heading level0 col3\" >HoursPerWeek</th>\n",
       "      <th id=\"T_d7481_level0_col4\" class=\"col_heading level0 col4\" >RemotePossible</th>\n",
       "      <th id=\"T_d7481_level0_col5\" class=\"col_heading level0 col5\" >StackOverflowSatisfaction</th>\n",
       "    </tr>\n",
       "  </thead>\n",
       "  <tbody>\n",
       "    <tr>\n",
       "      <th id=\"T_d7481_level0_row0\" class=\"row_heading level0 row0\" >JobSatisfaction</th>\n",
       "      <td id=\"T_d7481_row0_col0\" class=\"data row0 col0\" >1.000000</td>\n",
       "      <td id=\"T_d7481_row0_col1\" class=\"data row0 col1\" >0.645897</td>\n",
       "      <td id=\"T_d7481_row0_col2\" class=\"data row0 col2\" >0.120842</td>\n",
       "      <td id=\"T_d7481_row0_col3\" class=\"data row0 col3\" >-0.081679</td>\n",
       "      <td id=\"T_d7481_row0_col4\" class=\"data row0 col4\" >0.102625</td>\n",
       "      <td id=\"T_d7481_row0_col5\" class=\"data row0 col5\" >0.088187</td>\n",
       "    </tr>\n",
       "    <tr>\n",
       "      <th id=\"T_d7481_level0_row1\" class=\"row_heading level0 row1\" >CareerSatisfaction</th>\n",
       "      <td id=\"T_d7481_row1_col0\" class=\"data row1 col0\" >0.645897</td>\n",
       "      <td id=\"T_d7481_row1_col1\" class=\"data row1 col1\" >1.000000</td>\n",
       "      <td id=\"T_d7481_row1_col2\" class=\"data row1 col2\" >0.158139</td>\n",
       "      <td id=\"T_d7481_row1_col3\" class=\"data row1 col3\" >-0.040252</td>\n",
       "      <td id=\"T_d7481_row1_col4\" class=\"data row1 col4\" >0.106026</td>\n",
       "      <td id=\"T_d7481_row1_col5\" class=\"data row1 col5\" >0.152210</td>\n",
       "    </tr>\n",
       "    <tr>\n",
       "      <th id=\"T_d7481_level0_row2\" class=\"row_heading level0 row2\" >Salary</th>\n",
       "      <td id=\"T_d7481_row2_col0\" class=\"data row2 col0\" >0.120842</td>\n",
       "      <td id=\"T_d7481_row2_col1\" class=\"data row2 col1\" >0.158139</td>\n",
       "      <td id=\"T_d7481_row2_col2\" class=\"data row2 col2\" >1.000000</td>\n",
       "      <td id=\"T_d7481_row2_col3\" class=\"data row2 col3\" >-0.120332</td>\n",
       "      <td id=\"T_d7481_row2_col4\" class=\"data row2 col4\" >0.163761</td>\n",
       "      <td id=\"T_d7481_row2_col5\" class=\"data row2 col5\" >-0.076669</td>\n",
       "    </tr>\n",
       "    <tr>\n",
       "      <th id=\"T_d7481_level0_row3\" class=\"row_heading level0 row3\" >HoursPerWeek</th>\n",
       "      <td id=\"T_d7481_row3_col0\" class=\"data row3 col0\" >-0.081679</td>\n",
       "      <td id=\"T_d7481_row3_col1\" class=\"data row3 col1\" >-0.040252</td>\n",
       "      <td id=\"T_d7481_row3_col2\" class=\"data row3 col2\" >-0.120332</td>\n",
       "      <td id=\"T_d7481_row3_col3\" class=\"data row3 col3\" >1.000000</td>\n",
       "      <td id=\"T_d7481_row3_col4\" class=\"data row3 col4\" >0.036231</td>\n",
       "      <td id=\"T_d7481_row3_col5\" class=\"data row3 col5\" >-0.003217</td>\n",
       "    </tr>\n",
       "    <tr>\n",
       "      <th id=\"T_d7481_level0_row4\" class=\"row_heading level0 row4\" >RemotePossible</th>\n",
       "      <td id=\"T_d7481_row4_col0\" class=\"data row4 col0\" >0.102625</td>\n",
       "      <td id=\"T_d7481_row4_col1\" class=\"data row4 col1\" >0.106026</td>\n",
       "      <td id=\"T_d7481_row4_col2\" class=\"data row4 col2\" >0.163761</td>\n",
       "      <td id=\"T_d7481_row4_col3\" class=\"data row4 col3\" >0.036231</td>\n",
       "      <td id=\"T_d7481_row4_col4\" class=\"data row4 col4\" >1.000000</td>\n",
       "      <td id=\"T_d7481_row4_col5\" class=\"data row4 col5\" >-0.004251</td>\n",
       "    </tr>\n",
       "    <tr>\n",
       "      <th id=\"T_d7481_level0_row5\" class=\"row_heading level0 row5\" >StackOverflowSatisfaction</th>\n",
       "      <td id=\"T_d7481_row5_col0\" class=\"data row5 col0\" >0.088187</td>\n",
       "      <td id=\"T_d7481_row5_col1\" class=\"data row5 col1\" >0.152210</td>\n",
       "      <td id=\"T_d7481_row5_col2\" class=\"data row5 col2\" >-0.076669</td>\n",
       "      <td id=\"T_d7481_row5_col3\" class=\"data row5 col3\" >-0.003217</td>\n",
       "      <td id=\"T_d7481_row5_col4\" class=\"data row5 col4\" >-0.004251</td>\n",
       "      <td id=\"T_d7481_row5_col5\" class=\"data row5 col5\" >1.000000</td>\n",
       "    </tr>\n",
       "  </tbody>\n",
       "</table>\n"
      ],
      "text/plain": [
       "<pandas.io.formats.style.Styler at 0x12b83ca3040>"
      ]
     },
     "execution_count": 49,
     "metadata": {},
     "output_type": "execute_result"
    }
   ],
   "source": [
    "# correlation table for numeric variables and our outcome variable\n",
    "# df_corr = df[[\"JobSatisfaction\", \"Salary\", \"HoursPerWeek\"]]\n",
    "corr = hr[\n",
    "    [\n",
    "        \"JobSatisfaction\",\n",
    "        \"CareerSatisfaction\",\n",
    "        \"Salary\",\n",
    "        \"HoursPerWeek\",\n",
    "        \"RemotePossible\",\n",
    "        \"StackOverflowSatisfaction\",\n",
    "    ]\n",
    "].corr()\n",
    "corr.style.background_gradient(cmap=\"coolwarm\")\n"
   ]
  },
  {
   "attachments": {},
   "cell_type": "markdown",
   "metadata": {},
   "source": [
    "The correlation graph reveals the Career and Job Satisfaction to be highly positively correlated. \n",
    "When looking at RemotePossible, the highest correlations appear for Salary. This might also be important for the prediction question I want to answer below."
   ]
  },
  {
   "cell_type": "markdown",
   "metadata": {},
   "source": [
    "### Model data"
   ]
  },
  {
   "attachments": {},
   "cell_type": "markdown",
   "metadata": {},
   "source": [
    "### Question 5:  What are the determining factors in predicting if working from home is possible?\n",
    "For the prediction question, I first need to clean the data, that we take into account for the prediction. It is very important to think about missing values and how to handle them. For prediction I have to create dummies for categorical variables.The numeric columns will be filled with the mean, as I do not want to lose to much data with it and already filtered out people with no employment. "
   ]
  },
  {
   "cell_type": "code",
   "execution_count": 36,
   "metadata": {},
   "outputs": [],
   "source": [
    "#write function to clean data for prediction\n",
    "def clean_data(hr: pd.DataFrame, cat_vars: list):\n",
    "    \"\"\"\n",
    "    The function cleans and preprocesses the prepared developer survey data by dropping irrelevant columns, filling missing values\n",
    "    with mean, and creating dummy variables for categorical variables.\n",
    "    \n",
    "    :param hr: A pandas DataFrame with developer survey data \n",
    "    :type hr: pd.DataFrame\n",
    "    :param cat_vars: A list of categorical variables in the hr DataFrame that need to be converted into\n",
    "    dummy variables\n",
    "    :type cat_vars: list\n",
    "    :return: two variables, X and y. X is a cleaned version of the input DataFrame hr, with numeric\n",
    "    columns filled with the mean and categorical variables converted to dummy variables. y is a Series\n",
    "    containing the values of the \"RemotePossible\" column from the original hr DataFrame.\n",
    "    \"\"\"\n",
    "    df = hr.copy()\n",
    "\n",
    "    # Define possibility to work from home as y\n",
    "    y = df[\"RemotePossible\"]\n",
    "\n",
    "    # Drop respondent id, and Remote variable\n",
    "    df = df.drop([\"Respondent\", \"RemotePossible\"], axis=1)\n",
    "\n",
    "    # Fill numeric columns with the mean\n",
    "    num_vars = df.select_dtypes(include=[\"float\", \"int\"]).columns\n",
    "    for col in num_vars:\n",
    "        df[col].fillna((df[col].mean()), inplace=True)\n",
    "    cols_to_keep = list(num_vars) + cat_vars\n",
    "    df = df[cols_to_keep]\n",
    "\n",
    "    # Dummy the categorical variables\n",
    "    # cat_vars = df.select_dtypes(include=[\"object\"]).copy().columns\n",
    "    for var in cat_vars:\n",
    "        # for each cat add dummy var, drop original column\n",
    "        df = pd.concat(\n",
    "            [\n",
    "                df.drop(var, axis=1),\n",
    "                pd.get_dummies(df[var], prefix=var, prefix_sep=\"_\", drop_first=True),\n",
    "            ],\n",
    "            axis=1,\n",
    "        )\n",
    "\n",
    "    X = df\n",
    "    return X, y\n"
   ]
  },
  {
   "cell_type": "code",
   "execution_count": 37,
   "metadata": {},
   "outputs": [],
   "source": [
    "# clean data with the above function\n",
    "X, y = clean_data(\n",
    "    hr,\n",
    "    [\n",
    "        \"Professional\",\n",
    "        \"ProgramHobby\",\n",
    "        \"country_groups\",\n",
    "        \"EmploymentStatus\",\n",
    "        \"FormalEducation\",\n",
    "        \"CompanySize\",\n",
    "    ],\n",
    ")\n"
   ]
  },
  {
   "cell_type": "code",
   "execution_count": 38,
   "metadata": {},
   "outputs": [
    {
     "data": {
      "text/html": [
       "<div>\n",
       "<style scoped>\n",
       "    .dataframe tbody tr th:only-of-type {\n",
       "        vertical-align: middle;\n",
       "    }\n",
       "\n",
       "    .dataframe tbody tr th {\n",
       "        vertical-align: top;\n",
       "    }\n",
       "\n",
       "    .dataframe thead th {\n",
       "        text-align: right;\n",
       "    }\n",
       "</style>\n",
       "<table border=\"1\" class=\"dataframe\">\n",
       "  <thead>\n",
       "    <tr style=\"text-align: right;\">\n",
       "      <th></th>\n",
       "      <th>CareerSatisfaction</th>\n",
       "      <th>JobSatisfaction</th>\n",
       "      <th>HoursPerWeek</th>\n",
       "      <th>StackOverflowSatisfaction</th>\n",
       "      <th>Salary</th>\n",
       "      <th>ExpectedSalary</th>\n",
       "      <th>Professional_Professional developer</th>\n",
       "      <th>Professional_Professional non-developer who sometimes writes code</th>\n",
       "      <th>Professional_Student</th>\n",
       "      <th>Professional_Used to be a professional developer</th>\n",
       "      <th>...</th>\n",
       "      <th>FormalEducation_Some college/university study without earning a bachelor's degree</th>\n",
       "      <th>CompanySize_10 to 19 employees</th>\n",
       "      <th>CompanySize_10,000 or more employees</th>\n",
       "      <th>CompanySize_100 to 499 employees</th>\n",
       "      <th>CompanySize_20 to 99 employees</th>\n",
       "      <th>CompanySize_5,000 to 9,999 employees</th>\n",
       "      <th>CompanySize_500 to 999 employees</th>\n",
       "      <th>CompanySize_Fewer than 10 employees</th>\n",
       "      <th>CompanySize_I don't know</th>\n",
       "      <th>CompanySize_I prefer not to answer</th>\n",
       "    </tr>\n",
       "  </thead>\n",
       "  <tbody>\n",
       "    <tr>\n",
       "      <th>1</th>\n",
       "      <td>7.368747</td>\n",
       "      <td>6.957222</td>\n",
       "      <td>3.566124</td>\n",
       "      <td>8.000000</td>\n",
       "      <td>56296.698228</td>\n",
       "      <td>37500.000000</td>\n",
       "      <td>0</td>\n",
       "      <td>0</td>\n",
       "      <td>1</td>\n",
       "      <td>0</td>\n",
       "      <td>...</td>\n",
       "      <td>1</td>\n",
       "      <td>0</td>\n",
       "      <td>0</td>\n",
       "      <td>0</td>\n",
       "      <td>1</td>\n",
       "      <td>0</td>\n",
       "      <td>0</td>\n",
       "      <td>0</td>\n",
       "      <td>0</td>\n",
       "      <td>0</td>\n",
       "    </tr>\n",
       "    <tr>\n",
       "      <th>2</th>\n",
       "      <td>8.000000</td>\n",
       "      <td>9.000000</td>\n",
       "      <td>3.566124</td>\n",
       "      <td>8.000000</td>\n",
       "      <td>113750.000000</td>\n",
       "      <td>35537.950277</td>\n",
       "      <td>1</td>\n",
       "      <td>0</td>\n",
       "      <td>0</td>\n",
       "      <td>0</td>\n",
       "      <td>...</td>\n",
       "      <td>0</td>\n",
       "      <td>0</td>\n",
       "      <td>1</td>\n",
       "      <td>0</td>\n",
       "      <td>0</td>\n",
       "      <td>0</td>\n",
       "      <td>0</td>\n",
       "      <td>0</td>\n",
       "      <td>0</td>\n",
       "      <td>0</td>\n",
       "    </tr>\n",
       "    <tr>\n",
       "      <th>3</th>\n",
       "      <td>6.000000</td>\n",
       "      <td>3.000000</td>\n",
       "      <td>5.000000</td>\n",
       "      <td>10.000000</td>\n",
       "      <td>56296.698228</td>\n",
       "      <td>35537.950277</td>\n",
       "      <td>0</td>\n",
       "      <td>1</td>\n",
       "      <td>0</td>\n",
       "      <td>0</td>\n",
       "      <td>...</td>\n",
       "      <td>0</td>\n",
       "      <td>0</td>\n",
       "      <td>1</td>\n",
       "      <td>0</td>\n",
       "      <td>0</td>\n",
       "      <td>0</td>\n",
       "      <td>0</td>\n",
       "      <td>0</td>\n",
       "      <td>0</td>\n",
       "      <td>0</td>\n",
       "    </tr>\n",
       "    <tr>\n",
       "      <th>4</th>\n",
       "      <td>6.000000</td>\n",
       "      <td>8.000000</td>\n",
       "      <td>3.566124</td>\n",
       "      <td>8.453235</td>\n",
       "      <td>56296.698228</td>\n",
       "      <td>35537.950277</td>\n",
       "      <td>1</td>\n",
       "      <td>0</td>\n",
       "      <td>0</td>\n",
       "      <td>0</td>\n",
       "      <td>...</td>\n",
       "      <td>0</td>\n",
       "      <td>1</td>\n",
       "      <td>0</td>\n",
       "      <td>0</td>\n",
       "      <td>0</td>\n",
       "      <td>0</td>\n",
       "      <td>0</td>\n",
       "      <td>0</td>\n",
       "      <td>0</td>\n",
       "      <td>0</td>\n",
       "    </tr>\n",
       "    <tr>\n",
       "      <th>6</th>\n",
       "      <td>7.000000</td>\n",
       "      <td>6.000000</td>\n",
       "      <td>1.000000</td>\n",
       "      <td>8.000000</td>\n",
       "      <td>56296.698228</td>\n",
       "      <td>35537.950277</td>\n",
       "      <td>0</td>\n",
       "      <td>1</td>\n",
       "      <td>0</td>\n",
       "      <td>0</td>\n",
       "      <td>...</td>\n",
       "      <td>0</td>\n",
       "      <td>0</td>\n",
       "      <td>0</td>\n",
       "      <td>0</td>\n",
       "      <td>1</td>\n",
       "      <td>0</td>\n",
       "      <td>0</td>\n",
       "      <td>0</td>\n",
       "      <td>0</td>\n",
       "      <td>0</td>\n",
       "    </tr>\n",
       "  </tbody>\n",
       "</table>\n",
       "<p>5 rows × 42 columns</p>\n",
       "</div>"
      ],
      "text/plain": [
       "   CareerSatisfaction  JobSatisfaction  HoursPerWeek  \\\n",
       "1            7.368747         6.957222      3.566124   \n",
       "2            8.000000         9.000000      3.566124   \n",
       "3            6.000000         3.000000      5.000000   \n",
       "4            6.000000         8.000000      3.566124   \n",
       "6            7.000000         6.000000      1.000000   \n",
       "\n",
       "   StackOverflowSatisfaction         Salary  ExpectedSalary  \\\n",
       "1                   8.000000   56296.698228    37500.000000   \n",
       "2                   8.000000  113750.000000    35537.950277   \n",
       "3                  10.000000   56296.698228    35537.950277   \n",
       "4                   8.453235   56296.698228    35537.950277   \n",
       "6                   8.000000   56296.698228    35537.950277   \n",
       "\n",
       "   Professional_Professional developer  \\\n",
       "1                                    0   \n",
       "2                                    1   \n",
       "3                                    0   \n",
       "4                                    1   \n",
       "6                                    0   \n",
       "\n",
       "   Professional_Professional non-developer who sometimes writes code  \\\n",
       "1                                                  0                   \n",
       "2                                                  0                   \n",
       "3                                                  1                   \n",
       "4                                                  0                   \n",
       "6                                                  1                   \n",
       "\n",
       "   Professional_Student  Professional_Used to be a professional developer  \\\n",
       "1                     1                                                 0   \n",
       "2                     0                                                 0   \n",
       "3                     0                                                 0   \n",
       "4                     0                                                 0   \n",
       "6                     0                                                 0   \n",
       "\n",
       "   ...  \\\n",
       "1  ...   \n",
       "2  ...   \n",
       "3  ...   \n",
       "4  ...   \n",
       "6  ...   \n",
       "\n",
       "   FormalEducation_Some college/university study without earning a bachelor's degree  \\\n",
       "1                                                  1                                   \n",
       "2                                                  0                                   \n",
       "3                                                  0                                   \n",
       "4                                                  0                                   \n",
       "6                                                  0                                   \n",
       "\n",
       "   CompanySize_10 to 19 employees  CompanySize_10,000 or more employees  \\\n",
       "1                               0                                     0   \n",
       "2                               0                                     1   \n",
       "3                               0                                     1   \n",
       "4                               1                                     0   \n",
       "6                               0                                     0   \n",
       "\n",
       "   CompanySize_100 to 499 employees  CompanySize_20 to 99 employees  \\\n",
       "1                                 0                               1   \n",
       "2                                 0                               0   \n",
       "3                                 0                               0   \n",
       "4                                 0                               0   \n",
       "6                                 0                               1   \n",
       "\n",
       "   CompanySize_5,000 to 9,999 employees  CompanySize_500 to 999 employees  \\\n",
       "1                                     0                                 0   \n",
       "2                                     0                                 0   \n",
       "3                                     0                                 0   \n",
       "4                                     0                                 0   \n",
       "6                                     0                                 0   \n",
       "\n",
       "   CompanySize_Fewer than 10 employees  CompanySize_I don't know  \\\n",
       "1                                    0                         0   \n",
       "2                                    0                         0   \n",
       "3                                    0                         0   \n",
       "4                                    0                         0   \n",
       "6                                    0                         0   \n",
       "\n",
       "   CompanySize_I prefer not to answer  \n",
       "1                                   0  \n",
       "2                                   0  \n",
       "3                                   0  \n",
       "4                                   0  \n",
       "6                                   0  \n",
       "\n",
       "[5 rows x 42 columns]"
      ]
     },
     "execution_count": 38,
     "metadata": {},
     "output_type": "execute_result"
    }
   ],
   "source": [
    "# take a look at the data \n",
    "X.head()\n"
   ]
  },
  {
   "cell_type": "code",
   "execution_count": 39,
   "metadata": {},
   "outputs": [
    {
     "data": {
      "text/plain": [
       "1    1\n",
       "2    1\n",
       "3    1\n",
       "4    0\n",
       "6    1\n",
       "Name: RemotePossible, dtype: int64"
      ]
     },
     "execution_count": 39,
     "metadata": {},
     "output_type": "execute_result"
    }
   ],
   "source": [
    "y.head()"
   ]
  },
  {
   "attachments": {},
   "cell_type": "markdown",
   "metadata": {},
   "source": [
    "For prediction, I first split the data into train and test set"
   ]
  },
  {
   "cell_type": "code",
   "execution_count": 40,
   "metadata": {},
   "outputs": [],
   "source": [
    "# Split data into training and test data, and fit a logistic regression model\n",
    "X_train, X_test, y_train, y_test = train_test_split(\n",
    "    X, y, test_size=0.30, random_state=42\n",
    ")\n"
   ]
  },
  {
   "attachments": {},
   "cell_type": "markdown",
   "metadata": {},
   "source": [
    "Then I run a random forest model on the training data set"
   ]
  },
  {
   "cell_type": "code",
   "execution_count": 41,
   "metadata": {},
   "outputs": [
    {
     "data": {
      "text/plain": [
       "RandomForestClassifier(max_features=0.5, max_samples=500, min_samples_leaf=5,\n",
       "                       n_estimators=80)"
      ]
     },
     "execution_count": 41,
     "metadata": {},
     "output_type": "execute_result"
    }
   ],
   "source": [
    "clf = RandomForestClassifier(\n",
    "    n_estimators=80, max_samples=500, max_features=0.5, min_samples_leaf=5\n",
    ")\n",
    "clf.fit(X_train.values, y_train.values)\n"
   ]
  },
  {
   "attachments": {},
   "cell_type": "markdown",
   "metadata": {},
   "source": [
    "And predict the trained model on the test set"
   ]
  },
  {
   "cell_type": "code",
   "execution_count": 42,
   "metadata": {},
   "outputs": [
    {
     "data": {
      "text/plain": [
       "array([[0.57309524, 0.42690476],\n",
       "       [0.46234623, 0.53765377]])"
      ]
     },
     "execution_count": 42,
     "metadata": {},
     "output_type": "execute_result"
    }
   ],
   "source": [
    "y_pred = clf.predict_proba(X_test.values)\n",
    "y_pred[:2]\n"
   ]
  },
  {
   "cell_type": "code",
   "execution_count": 43,
   "metadata": {},
   "outputs": [
    {
     "name": "stdout",
     "output_type": "stream",
     "text": [
      "0.6648374841705361\n",
      "0.6596711872111524\n"
     ]
    }
   ],
   "source": [
    "#train score\n",
    "print(clf.score(X_train.values, y_train.values, sample_weight=None))\n",
    "# test score\n",
    "print(clf.score(X_test.values, y_test.values, sample_weight=None))\n"
   ]
  },
  {
   "cell_type": "code",
   "execution_count": 44,
   "metadata": {},
   "outputs": [
    {
     "data": {
      "text/plain": [
       "<sklearn.metrics._plot.confusion_matrix.ConfusionMatrixDisplay at 0x12b83c85e50>"
      ]
     },
     "execution_count": 44,
     "metadata": {},
     "output_type": "execute_result"
    },
    {
     "data": {
      "image/png": "[encoded data removed]",
      "text/plain": [
       "<Figure size 640x480 with 2 Axes>"
      ]
     },
     "metadata": {},
     "output_type": "display_data"
    }
   ],
   "source": [
    "cm = confusion_matrix(y_test, np.where(y_pred[:, 1] < 0.7, 0, 1))\n",
    "\n",
    "ConfusionMatrixDisplay(confusion_matrix=cm).plot()\n"
   ]
  },
  {
   "attachments": {},
   "cell_type": "markdown",
   "metadata": {},
   "source": [
    "Take a look at the accuracy score, based on the threshold it will change "
   ]
  },
  {
   "cell_type": "code",
   "execution_count": 45,
   "metadata": {},
   "outputs": [
    {
     "name": "stdout",
     "output_type": "stream",
     "text": [
      "Threshold 0.3\n",
      "Accuracy: 0.6395181453140389\n",
      "Precision: 0.6395119733252501\n",
      "Recall: 0.9998815165876778\n",
      "Threshold 0.4\n",
      "Accuracy: 0.6444427608152132\n",
      "Precision: 0.6437504795519067\n",
      "Recall: 0.9940758293838863\n",
      "Threshold 0.5\n",
      "Accuracy: 0.6596711872111524\n",
      "Precision: 0.6697042640990372\n",
      "Recall: 0.9229857819905213\n",
      "Threshold 0.6\n",
      "Accuracy: 0.6318660504583681\n",
      "Precision: 0.7336552264126321\n",
      "Recall: 0.6661137440758294\n",
      "Threshold 0.7\n",
      "Accuracy: 0.531100840972801\n",
      "Precision: 0.8307375844842786\n",
      "Recall: 0.3349526066350711\n"
     ]
    }
   ],
   "source": [
    "threshold = [0.3, 0.4, 0.5, 0.6, 0.7]\n",
    "for i in threshold:\n",
    "    accuracy = accuracy_score(y_test, np.where(y_pred[:, 1] < i, 0, 1))\n",
    "    precision = precision_score(y_test, np.where(y_pred[:, 1] < i, 0, 1))\n",
    "    recall = recall_score(y_test, np.where(y_pred[:, 1] < i, 0, 1))\n",
    "\n",
    "    print (\"Threshold\", i)\n",
    "    print(\"Accuracy:\", accuracy)\n",
    "    print(\"Precision:\", precision)\n",
    "    print(\"Recall:\", recall)\n"
   ]
  },
  {
   "attachments": {},
   "cell_type": "markdown",
   "metadata": {},
   "source": [
    "Dependent on the threshold, the outcome will accuracy, precision and recall will change. If I am more interested in predicting no-remote workers correctly, the threshold should be higher, accuracy will be lower and precision higher. "
   ]
  },
  {
   "cell_type": "code",
   "execution_count": 46,
   "metadata": {},
   "outputs": [],
   "source": [
    "# Create a series containing feature importances from the model and feature names from the training data\n",
    "feature_importances = pd.Series(clf.feature_importances_, index=X_train.columns).sort_values(ascending=False)"
   ]
  },
  {
   "cell_type": "code",
   "execution_count": 48,
   "metadata": {},
   "outputs": [
    {
     "data": {
      "text/plain": [
       "<AxesSubplot:>"
      ]
     },
     "execution_count": 48,
     "metadata": {},
     "output_type": "execute_result"
    },
    {
     "data": {
      "image/png": "[encoded data removed]",
      "text/plain": [
       "<Figure size 640x480 with 1 Axes>"
      ]
     },
     "metadata": {},
     "output_type": "display_data"
    }
   ],
   "source": [
    "(pd.Series(feature_importances)#, index=X.columns)\n",
    "   .nlargest(5)\n",
    "   .sort_values(ascending=True)\n",
    "   .plot(kind='barh'))        # some method chaining, because it's sexy!"
   ]
  },
  {
   "attachments": {},
   "cell_type": "markdown",
   "metadata": {},
   "source": [
    "The most important factors for working from home prediction are Job Satisfaction, Carrer Satisfaction and Salary. This could already be anticipated with the high positive correlation. The predictions 5 most important features also contain the employment status and stackoverflow satisfaction. "
   ]
  },
  {
   "cell_type": "markdown",
   "metadata": {},
   "source": []
  }
 ],
 "metadata": {
  "kernelspec": {
   "display_name": "base",
   "language": "python",
   "name": "python3"
  },
  "language_info": {
   "codemirror_mode": {
    "name": "ipython",
    "version": 3
   },
   "file_extension": ".py",
   "mimetype": "text/x-python",
   "name": "python",
   "nbconvert_exporter": "python",
   "pygments_lexer": "ipython3",
   "version": "3.9.13"
  },
  "orig_nbformat": 4
 },
 "nbformat": 4,
 "nbformat_minor": 2
}
