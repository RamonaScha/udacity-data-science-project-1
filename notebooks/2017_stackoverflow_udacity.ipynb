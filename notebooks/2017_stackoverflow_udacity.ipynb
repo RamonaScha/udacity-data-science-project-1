{
 "cells": [
  {
   "attachments": {},
   "cell_type": "markdown",
   "metadata": {},
   "source": [
    "### 1.Questions\n",
    "1) In 2017 was the country an important factor for the possibility to work from home?\n",
    "2) Which formal education allows most workers to have a remote job?\n",
    "3) Do smaller companies offer working remotely more often?\n",
    "4) What are the determining factors in predicting if working from home is possible?"
   ]
  },
  {
   "attachments": {},
   "cell_type": "markdown",
   "metadata": {},
   "source": [
    "### 2.Extract necessary data"
   ]
  },
  {
   "attachments": {},
   "cell_type": "markdown",
   "metadata": {},
   "source": [
    "First, let's read in the data and the necessary libraries."
   ]
  },
  {
   "cell_type": "code",
   "execution_count": 112,
   "metadata": {},
   "outputs": [],
   "source": [
    "import numpy as np\n",
    "import pandas as pd\n",
    "import matplotlib.pyplot as plt\n",
    "from IPython import display\n",
    "import seaborn as sns\n",
    "import plotly.express as px\n",
    "from sklearn.linear_model import LinearRegression\n",
    "from sklearn.linear_model import LogisticRegression\n",
    "from sklearn.model_selection import train_test_split\n",
    "from sklearn.metrics import r2_score, mean_squared_error\n",
    "import os\n",
    "\n",
    "%matplotlib inline"
   ]
  },
  {
   "attachments": {},
   "cell_type": "markdown",
   "metadata": {},
   "source": [
    "I decided to work with the Stackoverflow survey 2017 as it contains the information about working from home that I am most curious about"
   ]
  },
  {
   "cell_type": "code",
   "execution_count": 85,
   "metadata": {},
   "outputs": [
    {
     "name": "stdout",
     "output_type": "stream",
     "text": [
      "c:\\Users\\Ramona\\Documents\\Vs_code projects\\Udacity_project\\udacity-data-science-project-1\\notebooks\n"
     ]
    }
   ],
   "source": [
    "print(os.getcwd())  # get current working directory\n"
   ]
  },
  {
   "cell_type": "code",
   "execution_count": 4,
   "metadata": {},
   "outputs": [
    {
     "data": {
      "text/html": [
       "<div>\n",
       "<style scoped>\n",
       "    .dataframe tbody tr th:only-of-type {\n",
       "        vertical-align: middle;\n",
       "    }\n",
       "\n",
       "    .dataframe tbody tr th {\n",
       "        vertical-align: top;\n",
       "    }\n",
       "\n",
       "    .dataframe thead th {\n",
       "        text-align: right;\n",
       "    }\n",
       "</style>\n",
       "<table border=\"1\" class=\"dataframe\">\n",
       "  <thead>\n",
       "    <tr style=\"text-align: right;\">\n",
       "      <th></th>\n",
       "      <th>Respondent</th>\n",
       "      <th>Professional</th>\n",
       "      <th>ProgramHobby</th>\n",
       "      <th>Country</th>\n",
       "      <th>University</th>\n",
       "      <th>EmploymentStatus</th>\n",
       "      <th>FormalEducation</th>\n",
       "      <th>MajorUndergrad</th>\n",
       "      <th>HomeRemote</th>\n",
       "      <th>CompanySize</th>\n",
       "      <th>...</th>\n",
       "      <th>StackOverflowMakeMoney</th>\n",
       "      <th>Gender</th>\n",
       "      <th>HighestEducationParents</th>\n",
       "      <th>Race</th>\n",
       "      <th>SurveyLong</th>\n",
       "      <th>QuestionsInteresting</th>\n",
       "      <th>QuestionsConfusing</th>\n",
       "      <th>InterestedAnswers</th>\n",
       "      <th>Salary</th>\n",
       "      <th>ExpectedSalary</th>\n",
       "    </tr>\n",
       "  </thead>\n",
       "  <tbody>\n",
       "    <tr>\n",
       "      <th>0</th>\n",
       "      <td>1</td>\n",
       "      <td>Student</td>\n",
       "      <td>Yes, both</td>\n",
       "      <td>United States</td>\n",
       "      <td>No</td>\n",
       "      <td>Not employed, and not looking for work</td>\n",
       "      <td>Secondary school</td>\n",
       "      <td>NaN</td>\n",
       "      <td>NaN</td>\n",
       "      <td>NaN</td>\n",
       "      <td>...</td>\n",
       "      <td>Strongly disagree</td>\n",
       "      <td>Male</td>\n",
       "      <td>High school</td>\n",
       "      <td>White or of European descent</td>\n",
       "      <td>Strongly disagree</td>\n",
       "      <td>Strongly agree</td>\n",
       "      <td>Disagree</td>\n",
       "      <td>Strongly agree</td>\n",
       "      <td>NaN</td>\n",
       "      <td>NaN</td>\n",
       "    </tr>\n",
       "    <tr>\n",
       "      <th>1</th>\n",
       "      <td>2</td>\n",
       "      <td>Student</td>\n",
       "      <td>Yes, both</td>\n",
       "      <td>United Kingdom</td>\n",
       "      <td>Yes, full-time</td>\n",
       "      <td>Employed part-time</td>\n",
       "      <td>Some college/university study without earning ...</td>\n",
       "      <td>Computer science or software engineering</td>\n",
       "      <td>More than half, but not all, the time</td>\n",
       "      <td>20 to 99 employees</td>\n",
       "      <td>...</td>\n",
       "      <td>Strongly disagree</td>\n",
       "      <td>Male</td>\n",
       "      <td>A master's degree</td>\n",
       "      <td>White or of European descent</td>\n",
       "      <td>Somewhat agree</td>\n",
       "      <td>Somewhat agree</td>\n",
       "      <td>Disagree</td>\n",
       "      <td>Strongly agree</td>\n",
       "      <td>NaN</td>\n",
       "      <td>37500.0</td>\n",
       "    </tr>\n",
       "    <tr>\n",
       "      <th>2</th>\n",
       "      <td>3</td>\n",
       "      <td>Professional developer</td>\n",
       "      <td>Yes, both</td>\n",
       "      <td>United Kingdom</td>\n",
       "      <td>No</td>\n",
       "      <td>Employed full-time</td>\n",
       "      <td>Bachelor's degree</td>\n",
       "      <td>Computer science or software engineering</td>\n",
       "      <td>Less than half the time, but at least one day ...</td>\n",
       "      <td>10,000 or more employees</td>\n",
       "      <td>...</td>\n",
       "      <td>Disagree</td>\n",
       "      <td>Male</td>\n",
       "      <td>A professional degree</td>\n",
       "      <td>White or of European descent</td>\n",
       "      <td>Somewhat agree</td>\n",
       "      <td>Agree</td>\n",
       "      <td>Disagree</td>\n",
       "      <td>Agree</td>\n",
       "      <td>113750.0</td>\n",
       "      <td>NaN</td>\n",
       "    </tr>\n",
       "    <tr>\n",
       "      <th>3</th>\n",
       "      <td>4</td>\n",
       "      <td>Professional non-developer who sometimes write...</td>\n",
       "      <td>Yes, both</td>\n",
       "      <td>United States</td>\n",
       "      <td>No</td>\n",
       "      <td>Employed full-time</td>\n",
       "      <td>Doctoral degree</td>\n",
       "      <td>A non-computer-focused engineering discipline</td>\n",
       "      <td>Less than half the time, but at least one day ...</td>\n",
       "      <td>10,000 or more employees</td>\n",
       "      <td>...</td>\n",
       "      <td>Disagree</td>\n",
       "      <td>Male</td>\n",
       "      <td>A doctoral degree</td>\n",
       "      <td>White or of European descent</td>\n",
       "      <td>Agree</td>\n",
       "      <td>Agree</td>\n",
       "      <td>Somewhat agree</td>\n",
       "      <td>Strongly agree</td>\n",
       "      <td>NaN</td>\n",
       "      <td>NaN</td>\n",
       "    </tr>\n",
       "    <tr>\n",
       "      <th>4</th>\n",
       "      <td>5</td>\n",
       "      <td>Professional developer</td>\n",
       "      <td>Yes, I program as a hobby</td>\n",
       "      <td>Switzerland</td>\n",
       "      <td>No</td>\n",
       "      <td>Employed full-time</td>\n",
       "      <td>Master's degree</td>\n",
       "      <td>Computer science or software engineering</td>\n",
       "      <td>Never</td>\n",
       "      <td>10 to 19 employees</td>\n",
       "      <td>...</td>\n",
       "      <td>NaN</td>\n",
       "      <td>NaN</td>\n",
       "      <td>NaN</td>\n",
       "      <td>NaN</td>\n",
       "      <td>NaN</td>\n",
       "      <td>NaN</td>\n",
       "      <td>NaN</td>\n",
       "      <td>NaN</td>\n",
       "      <td>NaN</td>\n",
       "      <td>NaN</td>\n",
       "    </tr>\n",
       "  </tbody>\n",
       "</table>\n",
       "<p>5 rows × 154 columns</p>\n",
       "</div>"
      ],
      "text/plain": [
       "   Respondent                                       Professional  \\\n",
       "0           1                                            Student   \n",
       "1           2                                            Student   \n",
       "2           3                             Professional developer   \n",
       "3           4  Professional non-developer who sometimes write...   \n",
       "4           5                             Professional developer   \n",
       "\n",
       "                ProgramHobby         Country      University  \\\n",
       "0                  Yes, both   United States              No   \n",
       "1                  Yes, both  United Kingdom  Yes, full-time   \n",
       "2                  Yes, both  United Kingdom              No   \n",
       "3                  Yes, both   United States              No   \n",
       "4  Yes, I program as a hobby     Switzerland              No   \n",
       "\n",
       "                         EmploymentStatus  \\\n",
       "0  Not employed, and not looking for work   \n",
       "1                      Employed part-time   \n",
       "2                      Employed full-time   \n",
       "3                      Employed full-time   \n",
       "4                      Employed full-time   \n",
       "\n",
       "                                     FormalEducation  \\\n",
       "0                                   Secondary school   \n",
       "1  Some college/university study without earning ...   \n",
       "2                                  Bachelor's degree   \n",
       "3                                    Doctoral degree   \n",
       "4                                    Master's degree   \n",
       "\n",
       "                                  MajorUndergrad  \\\n",
       "0                                            NaN   \n",
       "1       Computer science or software engineering   \n",
       "2       Computer science or software engineering   \n",
       "3  A non-computer-focused engineering discipline   \n",
       "4       Computer science or software engineering   \n",
       "\n",
       "                                          HomeRemote  \\\n",
       "0                                                NaN   \n",
       "1              More than half, but not all, the time   \n",
       "2  Less than half the time, but at least one day ...   \n",
       "3  Less than half the time, but at least one day ...   \n",
       "4                                              Never   \n",
       "\n",
       "                CompanySize  ... StackOverflowMakeMoney Gender  \\\n",
       "0                       NaN  ...      Strongly disagree   Male   \n",
       "1        20 to 99 employees  ...      Strongly disagree   Male   \n",
       "2  10,000 or more employees  ...               Disagree   Male   \n",
       "3  10,000 or more employees  ...               Disagree   Male   \n",
       "4        10 to 19 employees  ...                    NaN    NaN   \n",
       "\n",
       "  HighestEducationParents                          Race         SurveyLong  \\\n",
       "0             High school  White or of European descent  Strongly disagree   \n",
       "1       A master's degree  White or of European descent     Somewhat agree   \n",
       "2   A professional degree  White or of European descent     Somewhat agree   \n",
       "3       A doctoral degree  White or of European descent              Agree   \n",
       "4                     NaN                           NaN                NaN   \n",
       "\n",
       "  QuestionsInteresting QuestionsConfusing InterestedAnswers    Salary  \\\n",
       "0       Strongly agree           Disagree    Strongly agree       NaN   \n",
       "1       Somewhat agree           Disagree    Strongly agree       NaN   \n",
       "2                Agree           Disagree             Agree  113750.0   \n",
       "3                Agree     Somewhat agree    Strongly agree       NaN   \n",
       "4                  NaN                NaN               NaN       NaN   \n",
       "\n",
       "   ExpectedSalary  \n",
       "0             NaN  \n",
       "1         37500.0  \n",
       "2             NaN  \n",
       "3             NaN  \n",
       "4             NaN  \n",
       "\n",
       "[5 rows x 154 columns]"
      ]
     },
     "execution_count": 4,
     "metadata": {},
     "output_type": "execute_result"
    }
   ],
   "source": [
    "# Step 1: Load in data\n",
    "df = pd.read_csv(\"../data/survey_results_public.csv\")\n",
    "# Take a look at the data\n",
    "df.head()\n"
   ]
  },
  {
   "cell_type": "code",
   "execution_count": 86,
   "metadata": {},
   "outputs": [
    {
     "name": "stdout",
     "output_type": "stream",
     "text": [
      "Number of rows: 51392 \n",
      "Number of columns: 157\n"
     ]
    }
   ],
   "source": [
    "# check the number of rows and columns\n",
    "num_rows_n = df.shape[0]  # Provide the number of rows in the dataset\n",
    "num_cols_n = df.shape[1]  # Provide the number of columns in the dataset\n",
    "print(f\"Number of rows: {num_rows_n} \\nNumber of columns: {num_cols_n}\")\n"
   ]
  },
  {
   "cell_type": "code",
   "execution_count": 87,
   "metadata": {},
   "outputs": [
    {
     "data": {
      "text/html": [
       "<div>\n",
       "<style scoped>\n",
       "    .dataframe tbody tr th:only-of-type {\n",
       "        vertical-align: middle;\n",
       "    }\n",
       "\n",
       "    .dataframe tbody tr th {\n",
       "        vertical-align: top;\n",
       "    }\n",
       "\n",
       "    .dataframe thead th {\n",
       "        text-align: right;\n",
       "    }\n",
       "</style>\n",
       "<table border=\"1\" class=\"dataframe\">\n",
       "  <thead>\n",
       "    <tr style=\"text-align: right;\">\n",
       "      <th></th>\n",
       "      <th>Respondent</th>\n",
       "      <th>CareerSatisfaction</th>\n",
       "      <th>JobSatisfaction</th>\n",
       "      <th>HoursPerWeek</th>\n",
       "      <th>StackOverflowSatisfaction</th>\n",
       "      <th>Salary</th>\n",
       "      <th>ExpectedSalary</th>\n",
       "      <th>OftenHome</th>\n",
       "      <th>RemotePossible</th>\n",
       "    </tr>\n",
       "  </thead>\n",
       "  <tbody>\n",
       "    <tr>\n",
       "      <th>count</th>\n",
       "      <td>51392.000000</td>\n",
       "      <td>42695.000000</td>\n",
       "      <td>40376.000000</td>\n",
       "      <td>20600.000000</td>\n",
       "      <td>36592.000000</td>\n",
       "      <td>12891.000000</td>\n",
       "      <td>2566.000000</td>\n",
       "      <td>51392.000000</td>\n",
       "      <td>51392.000000</td>\n",
       "    </tr>\n",
       "    <tr>\n",
       "      <th>mean</th>\n",
       "      <td>25696.500000</td>\n",
       "      <td>7.300574</td>\n",
       "      <td>6.957078</td>\n",
       "      <td>3.952282</td>\n",
       "      <td>8.429875</td>\n",
       "      <td>56298.480641</td>\n",
       "      <td>33142.220468</td>\n",
       "      <td>0.548412</td>\n",
       "      <td>0.548412</td>\n",
       "    </tr>\n",
       "    <tr>\n",
       "      <th>std</th>\n",
       "      <td>14835.736854</td>\n",
       "      <td>1.955444</td>\n",
       "      <td>2.167652</td>\n",
       "      <td>7.564722</td>\n",
       "      <td>1.390635</td>\n",
       "      <td>39880.905277</td>\n",
       "      <td>30162.988829</td>\n",
       "      <td>0.497656</td>\n",
       "      <td>0.497656</td>\n",
       "    </tr>\n",
       "    <tr>\n",
       "      <th>min</th>\n",
       "      <td>1.000000</td>\n",
       "      <td>0.000000</td>\n",
       "      <td>0.000000</td>\n",
       "      <td>0.000000</td>\n",
       "      <td>0.000000</td>\n",
       "      <td>0.000000</td>\n",
       "      <td>0.000000</td>\n",
       "      <td>0.000000</td>\n",
       "      <td>0.000000</td>\n",
       "    </tr>\n",
       "    <tr>\n",
       "      <th>25%</th>\n",
       "      <td>12848.750000</td>\n",
       "      <td>6.000000</td>\n",
       "      <td>6.000000</td>\n",
       "      <td>1.000000</td>\n",
       "      <td>8.000000</td>\n",
       "      <td>26440.371839</td>\n",
       "      <td>4490.492484</td>\n",
       "      <td>0.000000</td>\n",
       "      <td>0.000000</td>\n",
       "    </tr>\n",
       "    <tr>\n",
       "      <th>50%</th>\n",
       "      <td>25696.500000</td>\n",
       "      <td>8.000000</td>\n",
       "      <td>7.000000</td>\n",
       "      <td>1.000000</td>\n",
       "      <td>9.000000</td>\n",
       "      <td>50000.000000</td>\n",
       "      <td>29364.263691</td>\n",
       "      <td>1.000000</td>\n",
       "      <td>1.000000</td>\n",
       "    </tr>\n",
       "    <tr>\n",
       "      <th>75%</th>\n",
       "      <td>38544.250000</td>\n",
       "      <td>9.000000</td>\n",
       "      <td>8.000000</td>\n",
       "      <td>4.000000</td>\n",
       "      <td>10.000000</td>\n",
       "      <td>80000.000000</td>\n",
       "      <td>50403.225806</td>\n",
       "      <td>1.000000</td>\n",
       "      <td>1.000000</td>\n",
       "    </tr>\n",
       "    <tr>\n",
       "      <th>max</th>\n",
       "      <td>51392.000000</td>\n",
       "      <td>10.000000</td>\n",
       "      <td>10.000000</td>\n",
       "      <td>40.000000</td>\n",
       "      <td>10.000000</td>\n",
       "      <td>197000.000000</td>\n",
       "      <td>187500.000000</td>\n",
       "      <td>1.000000</td>\n",
       "      <td>1.000000</td>\n",
       "    </tr>\n",
       "  </tbody>\n",
       "</table>\n",
       "</div>"
      ],
      "text/plain": [
       "         Respondent  CareerSatisfaction  JobSatisfaction  HoursPerWeek  \\\n",
       "count  51392.000000        42695.000000     40376.000000  20600.000000   \n",
       "mean   25696.500000            7.300574         6.957078      3.952282   \n",
       "std    14835.736854            1.955444         2.167652      7.564722   \n",
       "min        1.000000            0.000000         0.000000      0.000000   \n",
       "25%    12848.750000            6.000000         6.000000      1.000000   \n",
       "50%    25696.500000            8.000000         7.000000      1.000000   \n",
       "75%    38544.250000            9.000000         8.000000      4.000000   \n",
       "max    51392.000000           10.000000        10.000000     40.000000   \n",
       "\n",
       "       StackOverflowSatisfaction         Salary  ExpectedSalary     OftenHome  \\\n",
       "count               36592.000000   12891.000000     2566.000000  51392.000000   \n",
       "mean                    8.429875   56298.480641    33142.220468      0.548412   \n",
       "std                     1.390635   39880.905277    30162.988829      0.497656   \n",
       "min                     0.000000       0.000000        0.000000      0.000000   \n",
       "25%                     8.000000   26440.371839     4490.492484      0.000000   \n",
       "50%                     9.000000   50000.000000    29364.263691      1.000000   \n",
       "75%                    10.000000   80000.000000    50403.225806      1.000000   \n",
       "max                    10.000000  197000.000000   187500.000000      1.000000   \n",
       "\n",
       "       RemotePossible  \n",
       "count    51392.000000  \n",
       "mean         0.548412  \n",
       "std          0.497656  \n",
       "min          0.000000  \n",
       "25%          0.000000  \n",
       "50%          1.000000  \n",
       "75%          1.000000  \n",
       "max          1.000000  "
      ]
     },
     "execution_count": 87,
     "metadata": {},
     "output_type": "execute_result"
    }
   ],
   "source": [
    "# Taking a look at numeric data\n",
    "df.describe()\n"
   ]
  },
  {
   "cell_type": "code",
   "execution_count": 88,
   "metadata": {},
   "outputs": [
    {
     "data": {
      "text/html": [
       "<div>\n",
       "<style scoped>\n",
       "    .dataframe tbody tr th:only-of-type {\n",
       "        vertical-align: middle;\n",
       "    }\n",
       "\n",
       "    .dataframe tbody tr th {\n",
       "        vertical-align: top;\n",
       "    }\n",
       "\n",
       "    .dataframe thead th {\n",
       "        text-align: right;\n",
       "    }\n",
       "</style>\n",
       "<table border=\"1\" class=\"dataframe\">\n",
       "  <thead>\n",
       "    <tr style=\"text-align: right;\">\n",
       "      <th></th>\n",
       "      <th>Column</th>\n",
       "      <th>Question</th>\n",
       "    </tr>\n",
       "  </thead>\n",
       "  <tbody>\n",
       "    <tr>\n",
       "      <th>0</th>\n",
       "      <td>Respondent</td>\n",
       "      <td>Respondent ID number</td>\n",
       "    </tr>\n",
       "    <tr>\n",
       "      <th>1</th>\n",
       "      <td>Professional</td>\n",
       "      <td>Which of the following best describes you?</td>\n",
       "    </tr>\n",
       "    <tr>\n",
       "      <th>2</th>\n",
       "      <td>ProgramHobby</td>\n",
       "      <td>Do you program as a hobby or contribute to ope...</td>\n",
       "    </tr>\n",
       "    <tr>\n",
       "      <th>3</th>\n",
       "      <td>Country</td>\n",
       "      <td>In which country do you currently live?</td>\n",
       "    </tr>\n",
       "    <tr>\n",
       "      <th>4</th>\n",
       "      <td>University</td>\n",
       "      <td>Are you currently enrolled in a formal, degree...</td>\n",
       "    </tr>\n",
       "  </tbody>\n",
       "</table>\n",
       "</div>"
      ],
      "text/plain": [
       "         Column                                           Question\n",
       "0    Respondent                               Respondent ID number\n",
       "1  Professional         Which of the following best describes you?\n",
       "2  ProgramHobby  Do you program as a hobby or contribute to ope...\n",
       "3       Country            In which country do you currently live?\n",
       "4    University  Are you currently enrolled in a formal, degree..."
      ]
     },
     "execution_count": 88,
     "metadata": {},
     "output_type": "execute_result"
    }
   ],
   "source": [
    "# Load in schema\n",
    "schema = pd.read_csv(\"../data/survey_results_schema.csv\")\n",
    "schema.head()\n"
   ]
  },
  {
   "attachments": {},
   "cell_type": "markdown",
   "metadata": {},
   "source": [
    "For the 4 questions that I want to answer, I need to have a deeper understanding of the variables HomeRemote, Country, Profession, Company Size. \n",
    " I will take most of the above numeric datapoints in for prediction of Working Remote possibilies."
   ]
  },
  {
   "attachments": {},
   "cell_type": "markdown",
   "metadata": {},
   "source": [
    "### Look at necessary data to answer the above questions"
   ]
  },
  {
   "cell_type": "code",
   "execution_count": 89,
   "metadata": {},
   "outputs": [],
   "source": [
    "def get_description(column_name, schema=schema):\n",
    "    \"\"\"\n",
    "    INPUT - schema - pandas dataframe with the schema of the developers survey\n",
    "            column_name - string - the name of the column you would like to know about\n",
    "    OUTPUT -\n",
    "            desc - string - the description of the column\n",
    "    \"\"\"\n",
    "    desc = list(schema[schema[\"Column\"] == column_name][\"Question\"])[0]\n",
    "    return desc"
   ]
  },
  {
   "cell_type": "code",
   "execution_count": 90,
   "metadata": {},
   "outputs": [
    {
     "data": {
      "text/plain": [
       "'How often do you work from home or remotely?'"
      ]
     },
     "execution_count": 90,
     "metadata": {},
     "output_type": "execute_result"
    }
   ],
   "source": [
    "# Get description for all important variables\n",
    "get_description(\n",
    "   'HomeRemote'\n",
    ")  \n",
    "#,'JobSatisfaction'"
   ]
  },
  {
   "cell_type": "code",
   "execution_count": 91,
   "metadata": {},
   "outputs": [
    {
     "data": {
      "text/plain": [
       "dtype('O')"
      ]
     },
     "execution_count": 91,
     "metadata": {},
     "output_type": "execute_result"
    }
   ],
   "source": [
    "df.HomeRemote.dtypes"
   ]
  },
  {
   "cell_type": "code",
   "execution_count": 9,
   "metadata": {},
   "outputs": [
    {
     "name": "stdout",
     "output_type": "stream",
     "text": [
      "A few days each month                                      15454\n",
      "Never                                                      13975\n",
      "All or almost all the time (I'm full-time remote)           4905\n",
      "Less than half the time, but at least one day each week     4147\n",
      "More than half, but not all, the time                       1909\n",
      "It's complicated                                            1849\n",
      "About half the time                                         1769\n",
      "Name: HomeRemote, dtype: int64\n"
     ]
    },
    {
     "data": {
      "text/plain": [
       "Text(0.5, 1.0, 'How often do you work from home or remotely?')"
      ]
     },
     "execution_count": 9,
     "metadata": {},
     "output_type": "execute_result"
    },
    {
     "data": {
      "image/png": "[encoded data removed]",
      "text/plain": [
       "<Figure size 640x480 with 1 Axes>"
      ]
     },
     "metadata": {},
     "output_type": "display_data"
    }
   ],
   "source": [
    "# some graphs for Home Remote\n",
    "status_vals = df.HomeRemote.value_counts()\n",
    "print(status_vals)\n",
    "(status_vals / df.shape[0]).plot(kind=\"bar\")\n",
    "plt.title(\"How often do you work from home or remotely?\")\n"
   ]
  },
  {
   "cell_type": "code",
   "execution_count": 92,
   "metadata": {},
   "outputs": [
    {
     "data": {
      "text/html": [
       "<div>\n",
       "<style scoped>\n",
       "    .dataframe tbody tr th:only-of-type {\n",
       "        vertical-align: middle;\n",
       "    }\n",
       "\n",
       "    .dataframe tbody tr th {\n",
       "        vertical-align: top;\n",
       "    }\n",
       "\n",
       "    .dataframe thead th {\n",
       "        text-align: right;\n",
       "    }\n",
       "</style>\n",
       "<table border=\"1\" class=\"dataframe\">\n",
       "  <thead>\n",
       "    <tr style=\"text-align: right;\">\n",
       "      <th></th>\n",
       "      <th>index</th>\n",
       "      <th>HomeRemote</th>\n",
       "    </tr>\n",
       "  </thead>\n",
       "  <tbody>\n",
       "    <tr>\n",
       "      <th>0</th>\n",
       "      <td>A few days each month</td>\n",
       "      <td>15454</td>\n",
       "    </tr>\n",
       "    <tr>\n",
       "      <th>1</th>\n",
       "      <td>Never</td>\n",
       "      <td>13975</td>\n",
       "    </tr>\n",
       "    <tr>\n",
       "      <th>2</th>\n",
       "      <td>All or almost all the time (I'm full-time remote)</td>\n",
       "      <td>4905</td>\n",
       "    </tr>\n",
       "    <tr>\n",
       "      <th>3</th>\n",
       "      <td>Less than half the time, but at least one day ...</td>\n",
       "      <td>4147</td>\n",
       "    </tr>\n",
       "    <tr>\n",
       "      <th>4</th>\n",
       "      <td>More than half, but not all, the time</td>\n",
       "      <td>1909</td>\n",
       "    </tr>\n",
       "  </tbody>\n",
       "</table>\n",
       "</div>"
      ],
      "text/plain": [
       "                                               index  HomeRemote\n",
       "0                              A few days each month       15454\n",
       "1                                              Never       13975\n",
       "2  All or almost all the time (I'm full-time remote)        4905\n",
       "3  Less than half the time, but at least one day ...        4147\n",
       "4              More than half, but not all, the time        1909"
      ]
     },
     "execution_count": 92,
     "metadata": {},
     "output_type": "execute_result"
    }
   ],
   "source": [
    "# How do the answers look like?\n",
    "hr = df[\"HomeRemote\"].value_counts().reset_index()\n",
    "hr.head()\n"
   ]
  },
  {
   "attachments": {},
   "cell_type": "markdown",
   "metadata": {},
   "source": [
    "### Data Cleaning and Preparation"
   ]
  },
  {
   "cell_type": "code",
   "execution_count": 93,
   "metadata": {},
   "outputs": [
    {
     "data": {
      "text/plain": [
       "0.8563200498132005"
      ]
     },
     "execution_count": 93,
     "metadata": {},
     "output_type": "execute_result"
    }
   ],
   "source": [
    "# To prepare data cleaning we first need to know how many answers we have to the Home Remote question\n",
    "prop_home_remote = 1 - df.isnull()['HomeRemote'].mean()\n",
    "prop_home_remote"
   ]
  },
  {
   "attachments": {},
   "cell_type": "markdown",
   "metadata": {},
   "source": [
    "~86% of participants, answered the question. As this will be my outcome variable I want to predict on later, I decide to delete rows with no answers on the HomeRemote question"
   ]
  },
  {
   "cell_type": "code",
   "execution_count": 94,
   "metadata": {},
   "outputs": [
    {
     "data": {
      "text/plain": [
       "1.0"
      ]
     },
     "execution_count": 94,
     "metadata": {},
     "output_type": "execute_result"
    }
   ],
   "source": [
    "hr = df.dropna(subset=[\"HomeRemote\"], axis=0)\n",
    "# check\n",
    "1 - hr.isnull()[\"HomeRemote\"].mean()"
   ]
  },
  {
   "attachments": {},
   "cell_type": "markdown",
   "metadata": {},
   "source": [
    "#### The above values do not really help to answer my first question, that is why I decided to categorize the answers"
   ]
  },
  {
   "cell_type": "code",
   "execution_count": 95,
   "metadata": {},
   "outputs": [
    {
     "data": {
      "text/plain": [
       "1    1\n",
       "2    1\n",
       "3    1\n",
       "4    0\n",
       "6    1\n",
       "Name: HomeRemote, dtype: int64"
      ]
     },
     "execution_count": 95,
     "metadata": {},
     "output_type": "execute_result"
    }
   ],
   "source": [
    "# In order to predict working from home later, I decide to create a new categorical variable\n",
    "def remote_possible(home_cat):\n",
    "    \"\"\"\n",
    "    INPUT\n",
    "        home_cat - HomeRemote categorical input\n",
    "\n",
    "    OUTPUT\n",
    "        return 1 if the category falls into 'it is possible to work from home without problems'\n",
    "        return 0 otherwise\n",
    "\n",
    "    \"\"\"\n",
    "    if home_cat in (\"A few days each month\",\"All or almost all the time (I'm full-time remote)\",\"More than half, but not all, the time\",\"About half the time\",\"Less than half the time, but at least one day each week\"):\n",
    "        return 1\n",
    "    else:\n",
    "        return 0\n",
    "\n",
    "\n",
    "hr[\"HomeRemote\"].apply(remote_possible)[\n",
    "    :5\n",
    "]  # Test your function to assure it provides 1 and 0 values for the df"
   ]
  },
  {
   "cell_type": "code",
   "execution_count": 96,
   "metadata": {},
   "outputs": [
    {
     "name": "stderr",
     "output_type": "stream",
     "text": [
      "C:\\Users\\Ramona\\AppData\\Local\\Temp\\ipykernel_18652\\2329484819.py:2: SettingWithCopyWarning: \n",
      "A value is trying to be set on a copy of a slice from a DataFrame.\n",
      "Try using .loc[row_indexer,col_indexer] = value instead\n",
      "\n",
      "See the caveats in the documentation: https://pandas.pydata.org/pandas-docs/stable/user_guide/indexing.html#returning-a-view-versus-a-copy\n",
      "  hr['RemotePossible'] = hr[\"HomeRemote\"].apply(remote_possible)\n"
     ]
    },
    {
     "data": {
      "text/plain": [
       "0.6404290129067443"
      ]
     },
     "execution_count": 96,
     "metadata": {},
     "output_type": "execute_result"
    }
   ],
   "source": [
    "# perc\n",
    "hr['RemotePossible'] = hr[\"HomeRemote\"].apply(remote_possible)\n",
    "remote_perc = hr['RemotePossible'].mean()\n",
    "remote_perc"
   ]
  },
  {
   "attachments": {},
   "cell_type": "markdown",
   "metadata": {},
   "source": [
    "64% of the respondents are able to work from home."
   ]
  },
  {
   "attachments": {},
   "cell_type": "markdown",
   "metadata": {},
   "source": [
    "For the second question I am  interested in country data "
   ]
  },
  {
   "cell_type": "code",
   "execution_count": 98,
   "metadata": {},
   "outputs": [
    {
     "data": {
      "text/plain": [
       "Text(0.5, 1.0, 'Country')"
      ]
     },
     "execution_count": 98,
     "metadata": {},
     "output_type": "execute_result"
    },
    {
     "data": {
      "image/png": "[encoded data removed]",
      "text/plain": [
       "<Figure size 640x480 with 1 Axes>"
      ]
     },
     "metadata": {},
     "output_type": "display_data"
    }
   ],
   "source": [
    "# First, I will look at the top 10 countries of participants\n",
    "count_vals = hr.Country.value_counts()\n",
    "\n",
    "(count_vals[:10] / hr.shape[0]).plot(kind=\"bar\")\n",
    "plt.title(\"Country\")\n"
   ]
  },
  {
   "cell_type": "code",
   "execution_count": 99,
   "metadata": {},
   "outputs": [
    {
     "data": {
      "text/plain": [
       "Country\n",
       "Cayman Islands      0.0\n",
       "Saint Lucia         0.0\n",
       "Reunion (French)    0.0\n",
       "Bermuda             0.0\n",
       "Falkland Islands    0.0\n",
       "                   ... \n",
       "Swaziland           1.0\n",
       "Eritrea             1.0\n",
       "Macau               1.0\n",
       "Cape Verde          1.0\n",
       "Sudan               1.0\n",
       "Name: RemotePossible, Length: 188, dtype: float64"
      ]
     },
     "execution_count": 99,
     "metadata": {},
     "output_type": "execute_result"
    }
   ],
   "source": [
    "rp_country = hr.groupby([\"Country\"]).mean()[\"RemotePossible\"].sort_values().dropna()\n",
    "rp_country"
   ]
  },
  {
   "attachments": {},
   "cell_type": "markdown",
   "metadata": {},
   "source": [
    "The above values do not give any insights, I have to restrict the countries to the top 10 to get the insightes I am searching for"
   ]
  },
  {
   "cell_type": "code",
   "execution_count": 100,
   "metadata": {},
   "outputs": [
    {
     "name": "stderr",
     "output_type": "stream",
     "text": [
      "C:\\Users\\Ramona\\AppData\\Local\\Temp\\ipykernel_18652\\3369174695.py:1: SettingWithCopyWarning: \n",
      "A value is trying to be set on a copy of a slice from a DataFrame.\n",
      "Try using .loc[row_indexer,col_indexer] = value instead\n",
      "\n",
      "See the caveats in the documentation: https://pandas.pydata.org/pandas-docs/stable/user_guide/indexing.html#returning-a-view-versus-a-copy\n",
      "  hr[\"country_groups\"] = np.where(\n"
     ]
    }
   ],
   "source": [
    "hr[\"country_groups\"] = np.where(\n",
    "    hr[\"Country\"].isin(\n",
    "        [\"United States\", \"India\", \"United Kingdom\", \"Germany\", \"France\", \"Canada\",\"Poland\",\"Australia\",\"Russian Federation\",\"Spain\"]\n",
    "    ),\n",
    "    hr[\"Country\"],\n",
    "    \"Other\",\n",
    ")"
   ]
  },
  {
   "cell_type": "code",
   "execution_count": 69,
   "metadata": {},
   "outputs": [
    {
     "data": {
      "text/plain": [
       "country_groups\n",
       "France                0.474916\n",
       "Spain                 0.505089\n",
       "Germany               0.568767\n",
       "United Kingdom        0.583870\n",
       "India                 0.640867\n",
       "Australia             0.643041\n",
       "Other                 0.647480\n",
       "Canada                0.647520\n",
       "Poland                0.677591\n",
       "United States         0.699581\n",
       "Russian Federation    0.735369\n",
       "Name: RemotePossible, dtype: float64"
      ]
     },
     "execution_count": 69,
     "metadata": {},
     "output_type": "execute_result"
    }
   ],
   "source": [
    "# To answer the first question, I will have a look at different countries\n",
    "hr.groupby([\"country_groups\"]).mean()[\"RemotePossible\"].sort_values().dropna()"
   ]
  },
  {
   "attachments": {},
   "cell_type": "markdown",
   "metadata": {},
   "source": [
    "### Evaluation of question 1) In 2017 was the country an important factor for the possibility to work from home?\n",
    "\n",
    "Interestingly in Russia ~74%  of workers have the possibility to work from home, second rank is United States (~70%), \n",
    "Lowest rates for remote workers are in France (~47%) and Spain ~51%. Most likely this changed after 2017 with the Corona pandemic. "
   ]
  },
  {
   "cell_type": "code",
   "execution_count": 101,
   "metadata": {},
   "outputs": [
    {
     "data": {
      "text/plain": [
       "FormalEducation\n",
       "Secondary school                                                     0.611096\n",
       "Professional degree                                                  0.622291\n",
       "Master's degree                                                      0.629324\n",
       "Bachelor's degree                                                    0.635421\n",
       "I prefer not to answer                                               0.641949\n",
       "Some college/university study without earning a bachelor's degree    0.668595\n",
       "Primary/elementary school                                            0.708934\n",
       "Doctoral degree                                                      0.713580\n",
       "I never completed any formal education                               0.726073\n",
       "Name: RemotePossible, dtype: float64"
      ]
     },
     "execution_count": 101,
     "metadata": {},
     "output_type": "execute_result"
    }
   ],
   "source": [
    "#For the second question I will have a look at the profession and the education \n",
    "hr.groupby(['FormalEducation']).mean()['RemotePossible'].sort_values().dropna()"
   ]
  },
  {
   "attachments": {},
   "cell_type": "markdown",
   "metadata": {},
   "source": [
    "### Evaluation of question 2) Does higher formal education allows most workers to have a remote job?\n",
    "No, the respondents of 'I never completed any formal education have the highest remote working scores. Primary/elementary school also ranks in the top 3. It is save to say that there is no positive relationship with working from home and formal education level. "
   ]
  },
  {
   "cell_type": "code",
   "execution_count": 102,
   "metadata": {},
   "outputs": [
    {
     "data": {
      "text/plain": [
       "CompanySize\n",
       "I prefer not to answer      0.551111\n",
       "100 to 499 employees        0.581351\n",
       "I don't know                0.582367\n",
       "20 to 99 employees          0.584470\n",
       "1,000 to 4,999 employees    0.585487\n",
       "5,000 to 9,999 employees    0.589888\n",
       "500 to 999 employees        0.594845\n",
       "10 to 19 employees          0.629123\n",
       "10,000 or more employees    0.637053\n",
       "Fewer than 10 employees     0.680515\n",
       "Name: RemotePossible, dtype: float64"
      ]
     },
     "execution_count": 102,
     "metadata": {},
     "output_type": "execute_result"
    }
   ],
   "source": [
    "#For the third question I will have a look at the company size\n",
    "hr.groupby(['CompanySize']).mean()['RemotePossible'].sort_values().dropna()"
   ]
  },
  {
   "attachments": {},
   "cell_type": "markdown",
   "metadata": {},
   "source": [
    "### Evaluation of question 3) Do smaller companies offer working remotely more often?\n",
    "The answer is no, there is no linear trends in smaller companies having a higher probability to work from home. The smallest companies have the highest percentile of remote workers (68%). However they are directly followed by the biggest companies. Second rank with 64% are companies with more than 10,000 employees."
   ]
  },
  {
   "cell_type": "code",
   "execution_count": 103,
   "metadata": {},
   "outputs": [
    {
     "data": {
      "text/html": [
       "<style type=\"text/css\">\n",
       "#T_446fe_row0_col0, #T_446fe_row1_col1, #T_446fe_row2_col2, #T_446fe_row3_col3 {\n",
       "  background-color: #b40426;\n",
       "  color: #f1f1f1;\n",
       "}\n",
       "#T_446fe_row0_col1 {\n",
       "  background-color: #81a4fb;\n",
       "  color: #f1f1f1;\n",
       "}\n",
       "#T_446fe_row0_col2 {\n",
       "  background-color: #445acc;\n",
       "  color: #f1f1f1;\n",
       "}\n",
       "#T_446fe_row0_col3 {\n",
       "  background-color: #4f69d9;\n",
       "  color: #f1f1f1;\n",
       "}\n",
       "#T_446fe_row1_col0 {\n",
       "  background-color: #7699f6;\n",
       "  color: #f1f1f1;\n",
       "}\n",
       "#T_446fe_row1_col2, #T_446fe_row2_col0, #T_446fe_row2_col1, #T_446fe_row2_col3 {\n",
       "  background-color: #3b4cc0;\n",
       "  color: #f1f1f1;\n",
       "}\n",
       "#T_446fe_row1_col3 {\n",
       "  background-color: #6384eb;\n",
       "  color: #f1f1f1;\n",
       "}\n",
       "#T_446fe_row3_col0 {\n",
       "  background-color: #7093f3;\n",
       "  color: #f1f1f1;\n",
       "}\n",
       "#T_446fe_row3_col1 {\n",
       "  background-color: #8db0fe;\n",
       "  color: #000000;\n",
       "}\n",
       "#T_446fe_row3_col2 {\n",
       "  background-color: #6687ed;\n",
       "  color: #f1f1f1;\n",
       "}\n",
       "</style>\n",
       "<table id=\"T_446fe\">\n",
       "  <thead>\n",
       "    <tr>\n",
       "      <th class=\"blank level0\" >&nbsp;</th>\n",
       "      <th id=\"T_446fe_level0_col0\" class=\"col_heading level0 col0\" >JobSatisfaction</th>\n",
       "      <th id=\"T_446fe_level0_col1\" class=\"col_heading level0 col1\" >Salary</th>\n",
       "      <th id=\"T_446fe_level0_col2\" class=\"col_heading level0 col2\" >HoursPerWeek</th>\n",
       "      <th id=\"T_446fe_level0_col3\" class=\"col_heading level0 col3\" >RemotePossible</th>\n",
       "    </tr>\n",
       "  </thead>\n",
       "  <tbody>\n",
       "    <tr>\n",
       "      <th id=\"T_446fe_level0_row0\" class=\"row_heading level0 row0\" >JobSatisfaction</th>\n",
       "      <td id=\"T_446fe_row0_col0\" class=\"data row0 col0\" >1.000000</td>\n",
       "      <td id=\"T_446fe_row0_col1\" class=\"data row0 col1\" >0.120842</td>\n",
       "      <td id=\"T_446fe_row0_col2\" class=\"data row0 col2\" >-0.081679</td>\n",
       "      <td id=\"T_446fe_row0_col3\" class=\"data row0 col3\" >0.102625</td>\n",
       "    </tr>\n",
       "    <tr>\n",
       "      <th id=\"T_446fe_level0_row1\" class=\"row_heading level0 row1\" >Salary</th>\n",
       "      <td id=\"T_446fe_row1_col0\" class=\"data row1 col0\" >0.120842</td>\n",
       "      <td id=\"T_446fe_row1_col1\" class=\"data row1 col1\" >1.000000</td>\n",
       "      <td id=\"T_446fe_row1_col2\" class=\"data row1 col2\" >-0.120332</td>\n",
       "      <td id=\"T_446fe_row1_col3\" class=\"data row1 col3\" >0.163761</td>\n",
       "    </tr>\n",
       "    <tr>\n",
       "      <th id=\"T_446fe_level0_row2\" class=\"row_heading level0 row2\" >HoursPerWeek</th>\n",
       "      <td id=\"T_446fe_row2_col0\" class=\"data row2 col0\" >-0.081679</td>\n",
       "      <td id=\"T_446fe_row2_col1\" class=\"data row2 col1\" >-0.120332</td>\n",
       "      <td id=\"T_446fe_row2_col2\" class=\"data row2 col2\" >1.000000</td>\n",
       "      <td id=\"T_446fe_row2_col3\" class=\"data row2 col3\" >0.036147</td>\n",
       "    </tr>\n",
       "    <tr>\n",
       "      <th id=\"T_446fe_level0_row3\" class=\"row_heading level0 row3\" >RemotePossible</th>\n",
       "      <td id=\"T_446fe_row3_col0\" class=\"data row3 col0\" >0.102625</td>\n",
       "      <td id=\"T_446fe_row3_col1\" class=\"data row3 col1\" >0.163761</td>\n",
       "      <td id=\"T_446fe_row3_col2\" class=\"data row3 col2\" >0.036147</td>\n",
       "      <td id=\"T_446fe_row3_col3\" class=\"data row3 col3\" >1.000000</td>\n",
       "    </tr>\n",
       "  </tbody>\n",
       "</table>\n"
      ],
      "text/plain": [
       "<pandas.io.formats.style.Styler at 0x277e0571850>"
      ]
     },
     "execution_count": 103,
     "metadata": {},
     "output_type": "execute_result"
    }
   ],
   "source": [
    "# correlation table for numeric variables and our outcome variable \n",
    "# df_corr = df[[\"JobSatisfaction\", \"Salary\", \"HoursPerWeek\"]]\n",
    "corr = hr[\n",
    "    [\n",
    "        \"JobSatisfaction\",\n",
    "        \"Salary\",\n",
    "        \"HoursPerWeek\",\n",
    "        \"RemotePossible\"\n",
    "    ]\n",
    "].corr()\n",
    "corr.style.background_gradient(cmap=\"coolwarm\")"
   ]
  },
  {
   "attachments": {},
   "cell_type": "markdown",
   "metadata": {},
   "source": [
    "### For the prediction question, I first need to clean the data, that we take into account for the prediction."
   ]
  },
  {
   "cell_type": "code",
   "execution_count": 104,
   "metadata": {},
   "outputs": [],
   "source": [
    "def clean_data(hr):\n",
    "    \"\"\"\n",
    "    INPUT\n",
    "    df - pandas dataframe\n",
    "\n",
    "    OUTPUT\n",
    "    X - A matrix holding all of the variables you want to consider when predicting the response\n",
    "    y - the corresponding response vector\n",
    "\n",
    "    This function cleans df using the following steps to produce X and y:\n",
    "    1. Drop all the rows with no salaries\n",
    "    2. Create X as all the columns that are not the Salary column\n",
    "    3. Create y as the Salary column\n",
    "    4. Drop the Salary, Respondent, and the ExpectedSalary columns from X\n",
    "    5. For each numeric variable in X, fill the column with the mean value of the column.\n",
    "    6. Create dummy columns for all the categorical variables in X, drop the original columns\n",
    "    \"\"\"\n",
    "    # Define possibility to work from home as y \n",
    "    y = hr[\"RemotePossible\"]\n",
    "\n",
    "    # Drop respondent id\n",
    "    hr = hr.drop([\"Respondent\",\"HomeRemote\",\"RemotePossible\"], axis=1)\n",
    "\n",
    "    # Fill numeric columns with the mean\n",
    "    num_vars = hr.select_dtypes(include=[\"float\", \"int\"]).columns\n",
    "    for col in num_vars:\n",
    "        hr[col].fillna((hr[col].mean()), inplace=True)\n",
    "\n",
    "    # Dummy the categorical variables\n",
    "    cat_vars = hr.select_dtypes(include=[\"object\"]).copy().columns\n",
    "    for var in cat_vars:\n",
    "        # for each cat add dummy var, drop original column\n",
    "        hr = pd.concat(\n",
    "            [\n",
    "                hr.drop(var, axis=1),\n",
    "                pd.get_dummies(hr[var], prefix=var, prefix_sep=\"_\", drop_first=True),\n",
    "            ],\n",
    "            axis=1,\n",
    "        )\n",
    "\n",
    "    X = hr\n",
    "    return X, y"
   ]
  },
  {
   "cell_type": "code",
   "execution_count": 105,
   "metadata": {},
   "outputs": [],
   "source": [
    "X, y = clean_data(hr)    "
   ]
  },
  {
   "cell_type": "code",
   "execution_count": 106,
   "metadata": {},
   "outputs": [],
   "source": [
    "# Split data into training and test data, and fit a linear model\n",
    "X_train, X_test, y_train, y_test = train_test_split(X, y , test_size=.30, random_state=42)\n",
    "lm_model = LinearRegression(normalize=True)"
   ]
  },
  {
   "cell_type": "code",
   "execution_count": 107,
   "metadata": {},
   "outputs": [
    {
     "data": {
      "text/html": [
       "<div>\n",
       "<style scoped>\n",
       "    .dataframe tbody tr th:only-of-type {\n",
       "        vertical-align: middle;\n",
       "    }\n",
       "\n",
       "    .dataframe tbody tr th {\n",
       "        vertical-align: top;\n",
       "    }\n",
       "\n",
       "    .dataframe thead th {\n",
       "        text-align: right;\n",
       "    }\n",
       "</style>\n",
       "<table border=\"1\" class=\"dataframe\">\n",
       "  <thead>\n",
       "    <tr style=\"text-align: right;\">\n",
       "      <th></th>\n",
       "      <th>CareerSatisfaction</th>\n",
       "      <th>JobSatisfaction</th>\n",
       "      <th>HoursPerWeek</th>\n",
       "      <th>StackOverflowSatisfaction</th>\n",
       "      <th>Salary</th>\n",
       "      <th>ExpectedSalary</th>\n",
       "      <th>OftenHome</th>\n",
       "      <th>Professional_Professional developer</th>\n",
       "      <th>Professional_Professional non-developer who sometimes writes code</th>\n",
       "      <th>Professional_Student</th>\n",
       "      <th>...</th>\n",
       "      <th>country_groups_Canada</th>\n",
       "      <th>country_groups_France</th>\n",
       "      <th>country_groups_Germany</th>\n",
       "      <th>country_groups_India</th>\n",
       "      <th>country_groups_Other</th>\n",
       "      <th>country_groups_Poland</th>\n",
       "      <th>country_groups_Russian Federation</th>\n",
       "      <th>country_groups_Spain</th>\n",
       "      <th>country_groups_United Kingdom</th>\n",
       "      <th>country_groups_United States</th>\n",
       "    </tr>\n",
       "  </thead>\n",
       "  <tbody>\n",
       "    <tr>\n",
       "      <th>18787</th>\n",
       "      <td>7.0</td>\n",
       "      <td>6.0</td>\n",
       "      <td>3.566389</td>\n",
       "      <td>8.000000</td>\n",
       "      <td>56296.698228</td>\n",
       "      <td>35471.788965</td>\n",
       "      <td>1</td>\n",
       "      <td>1</td>\n",
       "      <td>0</td>\n",
       "      <td>0</td>\n",
       "      <td>...</td>\n",
       "      <td>0</td>\n",
       "      <td>0</td>\n",
       "      <td>0</td>\n",
       "      <td>0</td>\n",
       "      <td>1</td>\n",
       "      <td>0</td>\n",
       "      <td>0</td>\n",
       "      <td>0</td>\n",
       "      <td>0</td>\n",
       "      <td>0</td>\n",
       "    </tr>\n",
       "    <tr>\n",
       "      <th>38552</th>\n",
       "      <td>5.0</td>\n",
       "      <td>3.0</td>\n",
       "      <td>0.000000</td>\n",
       "      <td>8.453126</td>\n",
       "      <td>56296.698228</td>\n",
       "      <td>35471.788965</td>\n",
       "      <td>0</td>\n",
       "      <td>1</td>\n",
       "      <td>0</td>\n",
       "      <td>0</td>\n",
       "      <td>...</td>\n",
       "      <td>0</td>\n",
       "      <td>0</td>\n",
       "      <td>0</td>\n",
       "      <td>0</td>\n",
       "      <td>0</td>\n",
       "      <td>0</td>\n",
       "      <td>1</td>\n",
       "      <td>0</td>\n",
       "      <td>0</td>\n",
       "      <td>0</td>\n",
       "    </tr>\n",
       "    <tr>\n",
       "      <th>1133</th>\n",
       "      <td>7.0</td>\n",
       "      <td>9.0</td>\n",
       "      <td>3.566389</td>\n",
       "      <td>6.000000</td>\n",
       "      <td>56296.698228</td>\n",
       "      <td>35471.788965</td>\n",
       "      <td>1</td>\n",
       "      <td>0</td>\n",
       "      <td>0</td>\n",
       "      <td>0</td>\n",
       "      <td>...</td>\n",
       "      <td>0</td>\n",
       "      <td>0</td>\n",
       "      <td>0</td>\n",
       "      <td>0</td>\n",
       "      <td>0</td>\n",
       "      <td>0</td>\n",
       "      <td>0</td>\n",
       "      <td>0</td>\n",
       "      <td>0</td>\n",
       "      <td>1</td>\n",
       "    </tr>\n",
       "    <tr>\n",
       "      <th>19466</th>\n",
       "      <td>8.0</td>\n",
       "      <td>7.0</td>\n",
       "      <td>1.000000</td>\n",
       "      <td>9.000000</td>\n",
       "      <td>35000.000000</td>\n",
       "      <td>35471.788965</td>\n",
       "      <td>1</td>\n",
       "      <td>1</td>\n",
       "      <td>0</td>\n",
       "      <td>0</td>\n",
       "      <td>...</td>\n",
       "      <td>0</td>\n",
       "      <td>0</td>\n",
       "      <td>0</td>\n",
       "      <td>0</td>\n",
       "      <td>0</td>\n",
       "      <td>0</td>\n",
       "      <td>0</td>\n",
       "      <td>0</td>\n",
       "      <td>0</td>\n",
       "      <td>1</td>\n",
       "    </tr>\n",
       "    <tr>\n",
       "      <th>4212</th>\n",
       "      <td>4.0</td>\n",
       "      <td>3.0</td>\n",
       "      <td>3.566389</td>\n",
       "      <td>10.000000</td>\n",
       "      <td>3303.479665</td>\n",
       "      <td>35471.788965</td>\n",
       "      <td>1</td>\n",
       "      <td>1</td>\n",
       "      <td>0</td>\n",
       "      <td>0</td>\n",
       "      <td>...</td>\n",
       "      <td>0</td>\n",
       "      <td>0</td>\n",
       "      <td>0</td>\n",
       "      <td>1</td>\n",
       "      <td>0</td>\n",
       "      <td>0</td>\n",
       "      <td>0</td>\n",
       "      <td>0</td>\n",
       "      <td>0</td>\n",
       "      <td>0</td>\n",
       "    </tr>\n",
       "    <tr>\n",
       "      <th>...</th>\n",
       "      <td>...</td>\n",
       "      <td>...</td>\n",
       "      <td>...</td>\n",
       "      <td>...</td>\n",
       "      <td>...</td>\n",
       "      <td>...</td>\n",
       "      <td>...</td>\n",
       "      <td>...</td>\n",
       "      <td>...</td>\n",
       "      <td>...</td>\n",
       "      <td>...</td>\n",
       "      <td>...</td>\n",
       "      <td>...</td>\n",
       "      <td>...</td>\n",
       "      <td>...</td>\n",
       "      <td>...</td>\n",
       "      <td>...</td>\n",
       "      <td>...</td>\n",
       "      <td>...</td>\n",
       "      <td>...</td>\n",
       "      <td>...</td>\n",
       "    </tr>\n",
       "    <tr>\n",
       "      <th>7127</th>\n",
       "      <td>9.0</td>\n",
       "      <td>9.0</td>\n",
       "      <td>3.566389</td>\n",
       "      <td>8.000000</td>\n",
       "      <td>56296.698228</td>\n",
       "      <td>35471.788965</td>\n",
       "      <td>1</td>\n",
       "      <td>1</td>\n",
       "      <td>0</td>\n",
       "      <td>0</td>\n",
       "      <td>...</td>\n",
       "      <td>0</td>\n",
       "      <td>0</td>\n",
       "      <td>0</td>\n",
       "      <td>0</td>\n",
       "      <td>0</td>\n",
       "      <td>0</td>\n",
       "      <td>0</td>\n",
       "      <td>0</td>\n",
       "      <td>0</td>\n",
       "      <td>1</td>\n",
       "    </tr>\n",
       "    <tr>\n",
       "      <th>13079</th>\n",
       "      <td>7.0</td>\n",
       "      <td>1.0</td>\n",
       "      <td>2.000000</td>\n",
       "      <td>7.000000</td>\n",
       "      <td>56296.698228</td>\n",
       "      <td>35471.788965</td>\n",
       "      <td>0</td>\n",
       "      <td>1</td>\n",
       "      <td>0</td>\n",
       "      <td>0</td>\n",
       "      <td>...</td>\n",
       "      <td>0</td>\n",
       "      <td>0</td>\n",
       "      <td>0</td>\n",
       "      <td>0</td>\n",
       "      <td>0</td>\n",
       "      <td>0</td>\n",
       "      <td>0</td>\n",
       "      <td>0</td>\n",
       "      <td>0</td>\n",
       "      <td>1</td>\n",
       "    </tr>\n",
       "    <tr>\n",
       "      <th>44569</th>\n",
       "      <td>7.0</td>\n",
       "      <td>4.0</td>\n",
       "      <td>14.000000</td>\n",
       "      <td>8.000000</td>\n",
       "      <td>56296.698228</td>\n",
       "      <td>35471.788965</td>\n",
       "      <td>1</td>\n",
       "      <td>0</td>\n",
       "      <td>1</td>\n",
       "      <td>0</td>\n",
       "      <td>...</td>\n",
       "      <td>0</td>\n",
       "      <td>0</td>\n",
       "      <td>0</td>\n",
       "      <td>0</td>\n",
       "      <td>1</td>\n",
       "      <td>0</td>\n",
       "      <td>0</td>\n",
       "      <td>0</td>\n",
       "      <td>0</td>\n",
       "      <td>0</td>\n",
       "    </tr>\n",
       "    <tr>\n",
       "      <th>986</th>\n",
       "      <td>6.0</td>\n",
       "      <td>7.0</td>\n",
       "      <td>2.000000</td>\n",
       "      <td>8.000000</td>\n",
       "      <td>160000.000000</td>\n",
       "      <td>35471.788965</td>\n",
       "      <td>1</td>\n",
       "      <td>1</td>\n",
       "      <td>0</td>\n",
       "      <td>0</td>\n",
       "      <td>...</td>\n",
       "      <td>0</td>\n",
       "      <td>0</td>\n",
       "      <td>0</td>\n",
       "      <td>0</td>\n",
       "      <td>0</td>\n",
       "      <td>0</td>\n",
       "      <td>0</td>\n",
       "      <td>0</td>\n",
       "      <td>0</td>\n",
       "      <td>1</td>\n",
       "    </tr>\n",
       "    <tr>\n",
       "      <th>18366</th>\n",
       "      <td>6.0</td>\n",
       "      <td>7.0</td>\n",
       "      <td>3.566389</td>\n",
       "      <td>9.000000</td>\n",
       "      <td>56296.698228</td>\n",
       "      <td>35471.788965</td>\n",
       "      <td>0</td>\n",
       "      <td>1</td>\n",
       "      <td>0</td>\n",
       "      <td>0</td>\n",
       "      <td>...</td>\n",
       "      <td>0</td>\n",
       "      <td>0</td>\n",
       "      <td>0</td>\n",
       "      <td>0</td>\n",
       "      <td>1</td>\n",
       "      <td>0</td>\n",
       "      <td>0</td>\n",
       "      <td>0</td>\n",
       "      <td>0</td>\n",
       "      <td>0</td>\n",
       "    </tr>\n",
       "  </tbody>\n",
       "</table>\n",
       "<p>30805 rows × 38852 columns</p>\n",
       "</div>"
      ],
      "text/plain": [
       "       CareerSatisfaction  JobSatisfaction  HoursPerWeek  \\\n",
       "18787                 7.0              6.0      3.566389   \n",
       "38552                 5.0              3.0      0.000000   \n",
       "1133                  7.0              9.0      3.566389   \n",
       "19466                 8.0              7.0      1.000000   \n",
       "4212                  4.0              3.0      3.566389   \n",
       "...                   ...              ...           ...   \n",
       "7127                  9.0              9.0      3.566389   \n",
       "13079                 7.0              1.0      2.000000   \n",
       "44569                 7.0              4.0     14.000000   \n",
       "986                   6.0              7.0      2.000000   \n",
       "18366                 6.0              7.0      3.566389   \n",
       "\n",
       "       StackOverflowSatisfaction         Salary  ExpectedSalary  OftenHome  \\\n",
       "18787                   8.000000   56296.698228    35471.788965          1   \n",
       "38552                   8.453126   56296.698228    35471.788965          0   \n",
       "1133                    6.000000   56296.698228    35471.788965          1   \n",
       "19466                   9.000000   35000.000000    35471.788965          1   \n",
       "4212                   10.000000    3303.479665    35471.788965          1   \n",
       "...                          ...            ...             ...        ...   \n",
       "7127                    8.000000   56296.698228    35471.788965          1   \n",
       "13079                   7.000000   56296.698228    35471.788965          0   \n",
       "44569                   8.000000   56296.698228    35471.788965          1   \n",
       "986                     8.000000  160000.000000    35471.788965          1   \n",
       "18366                   9.000000   56296.698228    35471.788965          0   \n",
       "\n",
       "       Professional_Professional developer  \\\n",
       "18787                                    1   \n",
       "38552                                    1   \n",
       "1133                                     0   \n",
       "19466                                    1   \n",
       "4212                                     1   \n",
       "...                                    ...   \n",
       "7127                                     1   \n",
       "13079                                    1   \n",
       "44569                                    0   \n",
       "986                                      1   \n",
       "18366                                    1   \n",
       "\n",
       "       Professional_Professional non-developer who sometimes writes code  \\\n",
       "18787                                                  0                   \n",
       "38552                                                  0                   \n",
       "1133                                                   0                   \n",
       "19466                                                  0                   \n",
       "4212                                                   0                   \n",
       "...                                                  ...                   \n",
       "7127                                                   0                   \n",
       "13079                                                  0                   \n",
       "44569                                                  1                   \n",
       "986                                                    0                   \n",
       "18366                                                  0                   \n",
       "\n",
       "       Professional_Student  ...  country_groups_Canada  \\\n",
       "18787                     0  ...                      0   \n",
       "38552                     0  ...                      0   \n",
       "1133                      0  ...                      0   \n",
       "19466                     0  ...                      0   \n",
       "4212                      0  ...                      0   \n",
       "...                     ...  ...                    ...   \n",
       "7127                      0  ...                      0   \n",
       "13079                     0  ...                      0   \n",
       "44569                     0  ...                      0   \n",
       "986                       0  ...                      0   \n",
       "18366                     0  ...                      0   \n",
       "\n",
       "       country_groups_France  country_groups_Germany  country_groups_India  \\\n",
       "18787                      0                       0                     0   \n",
       "38552                      0                       0                     0   \n",
       "1133                       0                       0                     0   \n",
       "19466                      0                       0                     0   \n",
       "4212                       0                       0                     1   \n",
       "...                      ...                     ...                   ...   \n",
       "7127                       0                       0                     0   \n",
       "13079                      0                       0                     0   \n",
       "44569                      0                       0                     0   \n",
       "986                        0                       0                     0   \n",
       "18366                      0                       0                     0   \n",
       "\n",
       "       country_groups_Other  country_groups_Poland  \\\n",
       "18787                     1                      0   \n",
       "38552                     0                      0   \n",
       "1133                      0                      0   \n",
       "19466                     0                      0   \n",
       "4212                      0                      0   \n",
       "...                     ...                    ...   \n",
       "7127                      0                      0   \n",
       "13079                     0                      0   \n",
       "44569                     1                      0   \n",
       "986                       0                      0   \n",
       "18366                     1                      0   \n",
       "\n",
       "       country_groups_Russian Federation  country_groups_Spain  \\\n",
       "18787                                  0                     0   \n",
       "38552                                  1                     0   \n",
       "1133                                   0                     0   \n",
       "19466                                  0                     0   \n",
       "4212                                   0                     0   \n",
       "...                                  ...                   ...   \n",
       "7127                                   0                     0   \n",
       "13079                                  0                     0   \n",
       "44569                                  0                     0   \n",
       "986                                    0                     0   \n",
       "18366                                  0                     0   \n",
       "\n",
       "       country_groups_United Kingdom  country_groups_United States  \n",
       "18787                              0                             0  \n",
       "38552                              0                             0  \n",
       "1133                               0                             1  \n",
       "19466                              0                             1  \n",
       "4212                               0                             0  \n",
       "...                              ...                           ...  \n",
       "7127                               0                             1  \n",
       "13079                              0                             1  \n",
       "44569                              0                             0  \n",
       "986                                0                             1  \n",
       "18366                              0                             0  \n",
       "\n",
       "[30805 rows x 38852 columns]"
      ]
     },
     "execution_count": 107,
     "metadata": {},
     "output_type": "execute_result"
    }
   ],
   "source": [
    "X_train"
   ]
  },
  {
   "cell_type": "code",
   "execution_count": 113,
   "metadata": {},
   "outputs": [],
   "source": [
    "reg = LogisticRegression().fit(X_train.values, y_train.values)\n",
    "y_pred = reg.predict(X_test.values)"
   ]
  },
  {
   "cell_type": "code",
   "execution_count": 114,
   "metadata": {},
   "outputs": [
    {
     "data": {
      "text/plain": [
       "array([[   0, 4658],\n",
       "       [   0, 8545]], dtype=int64)"
      ]
     },
     "execution_count": 114,
     "metadata": {},
     "output_type": "execute_result"
    }
   ],
   "source": [
    "confusion_matrix(y_test, np.where(y_pred<0.5, 0, 1)) #if I don't specify the threshold, the model will predict for everyone to have the possibility to work from home  "
   ]
  },
  {
   "cell_type": "code",
   "execution_count": 115,
   "metadata": {},
   "outputs": [
    {
     "name": "stdout",
     "output_type": "stream",
     "text": [
      "                               precision    recall  f1-score   support\n",
      "\n",
      "               no remote work       0.00      0.00      0.00      4658\n",
      "possibility to work from home       0.65      1.00      0.79      8545\n",
      "\n",
      "                     accuracy                           0.65     13203\n",
      "                    macro avg       0.32      0.50      0.39     13203\n",
      "                 weighted avg       0.42      0.65      0.51     13203\n",
      "\n"
     ]
    },
    {
     "name": "stderr",
     "output_type": "stream",
     "text": [
      "c:\\Users\\Ramona\\anaconda3\\lib\\site-packages\\sklearn\\metrics\\_classification.py:1318: UndefinedMetricWarning: Precision and F-score are ill-defined and being set to 0.0 in labels with no predicted samples. Use `zero_division` parameter to control this behavior.\n",
      "  _warn_prf(average, modifier, msg_start, len(result))\n",
      "c:\\Users\\Ramona\\anaconda3\\lib\\site-packages\\sklearn\\metrics\\_classification.py:1318: UndefinedMetricWarning: Precision and F-score are ill-defined and being set to 0.0 in labels with no predicted samples. Use `zero_division` parameter to control this behavior.\n",
      "  _warn_prf(average, modifier, msg_start, len(result))\n",
      "c:\\Users\\Ramona\\anaconda3\\lib\\site-packages\\sklearn\\metrics\\_classification.py:1318: UndefinedMetricWarning: Precision and F-score are ill-defined and being set to 0.0 in labels with no predicted samples. Use `zero_division` parameter to control this behavior.\n",
      "  _warn_prf(average, modifier, msg_start, len(result))\n"
     ]
    }
   ],
   "source": [
    "target_names = ['no remote work', 'possibility to work from home']\n",
    "print(classification_report(y_test, np.where(y_pred<0.5, 0, 1), target_names=target_names)) # accuracy is at 65% with the method"
   ]
  },
  {
   "cell_type": "code",
   "execution_count": 116,
   "metadata": {},
   "outputs": [
    {
     "data": {
      "text/plain": [
       "RandomForestClassifier(max_features=0.5, max_samples=500, min_samples_leaf=5,\n",
       "                       n_estimators=80)"
      ]
     },
     "execution_count": 116,
     "metadata": {},
     "output_type": "execute_result"
    }
   ],
   "source": [
    "clf = RandomForestClassifier(n_estimators=80, max_samples=500, max_features=0.5, min_samples_leaf=5)\n",
    "clf.fit(X_train.values, y_train.values)\n"
   ]
  },
  {
   "cell_type": "code",
   "execution_count": 117,
   "metadata": {},
   "outputs": [
    {
     "data": {
      "text/plain": [
       "array([[0., 1.],\n",
       "       [1., 0.]])"
      ]
     },
     "execution_count": 117,
     "metadata": {},
     "output_type": "execute_result"
    }
   ],
   "source": [
    "y_pred = clf.predict_proba(X_test.values)\n",
    "y_pred[:2]"
   ]
  },
  {
   "cell_type": "code",
   "execution_count": 120,
   "metadata": {},
   "outputs": [
    {
     "data": {
      "text/plain": [
       "array([[4543,  115],\n",
       "       [   0, 8545]], dtype=int64)"
      ]
     },
     "execution_count": 120,
     "metadata": {},
     "output_type": "execute_result"
    }
   ],
   "source": [
    "# what if we revise the threshold of predicting non registration to lower than 10% probability work from home?\n",
    "confusion_matrix(y_test, np.where(y_pred[:, 1]<0.1, 0, 1))"
   ]
  },
  {
   "cell_type": "code",
   "execution_count": 122,
   "metadata": {},
   "outputs": [
    {
     "name": "stdout",
     "output_type": "stream",
     "text": [
      "                               precision    recall  f1-score   support\n",
      "\n",
      "               no remote work       1.00      0.98      0.99      4658\n",
      "possibility to work from home       0.99      1.00      0.99      8545\n",
      "\n",
      "                     accuracy                           0.99     13203\n",
      "                    macro avg       0.99      0.99      0.99     13203\n",
      "                 weighted avg       0.99      0.99      0.99     13203\n",
      "\n"
     ]
    }
   ],
   "source": [
    "# with lowering the threshold of working from home to 10%, I am able to predict 99% right\n",
    "target_names = ['no remote work', 'possibility to work from home']\n",
    "print(classification_report(y_test, np.where(y_pred[:, 1]<0.1, 0, 1), target_names=target_names))"
   ]
  },
  {
   "cell_type": "code",
   "execution_count": 125,
   "metadata": {},
   "outputs": [
    {
     "data": {
      "image/png": "[encoded data removed]",
      "text/plain": [
       "<Figure size 640x480 with 1 Axes>"
      ]
     },
     "metadata": {},
     "output_type": "display_data"
    }
   ],
   "source": [
    "(pd.Series(clf.feature_importances_)\n",
    "   .nlargest(5)\n",
    "   .plot(kind='barh',title='5 Most Important Features for Home Remote prediction')).invert_yaxis()"
   ]
  },
  {
   "cell_type": "code",
   "execution_count": 109,
   "metadata": {},
   "outputs": [
    {
     "ename": "NameError",
     "evalue": "name 'sm' is not defined",
     "output_type": "error",
     "traceback": [
      "\u001b[1;31m---------------------------------------------------------------------------\u001b[0m",
      "\u001b[1;31mNameError\u001b[0m                                 Traceback (most recent call last)",
      "\u001b[1;32m~\\AppData\\Local\\Temp\\ipykernel_18652\\2985964752.py\u001b[0m in \u001b[0;36m<module>\u001b[1;34m\u001b[0m\n\u001b[1;32m----> 1\u001b[1;33m \u001b[0mX2\u001b[0m \u001b[1;33m=\u001b[0m \u001b[0msm\u001b[0m\u001b[1;33m.\u001b[0m\u001b[0madd_constant\u001b[0m\u001b[1;33m(\u001b[0m\u001b[0mnp\u001b[0m\u001b[1;33m.\u001b[0m\u001b[0marray\u001b[0m\u001b[1;33m(\u001b[0m\u001b[0mX_train\u001b[0m\u001b[1;33m.\u001b[0m\u001b[0mvalues\u001b[0m\u001b[1;33m,\u001b[0m\u001b[0mdtype\u001b[0m\u001b[1;33m=\u001b[0m\u001b[0mfloat\u001b[0m\u001b[1;33m)\u001b[0m\u001b[1;33m)\u001b[0m\u001b[1;33m\u001b[0m\u001b[1;33m\u001b[0m\u001b[0m\n\u001b[0m\u001b[0;32m      2\u001b[0m \u001b[0mest\u001b[0m \u001b[1;33m=\u001b[0m \u001b[0msm\u001b[0m\u001b[1;33m.\u001b[0m\u001b[0mOLS\u001b[0m\u001b[1;33m(\u001b[0m\u001b[0my_train\u001b[0m\u001b[1;33m.\u001b[0m\u001b[0mvalues\u001b[0m\u001b[1;33m,\u001b[0m \u001b[0mX2\u001b[0m\u001b[1;33m)\u001b[0m\u001b[1;33m\u001b[0m\u001b[1;33m\u001b[0m\u001b[0m\n\u001b[0;32m      3\u001b[0m \u001b[0mest2\u001b[0m \u001b[1;33m=\u001b[0m \u001b[0mest\u001b[0m\u001b[1;33m.\u001b[0m\u001b[0mfit\u001b[0m\u001b[1;33m(\u001b[0m\u001b[1;33m)\u001b[0m\u001b[1;33m\u001b[0m\u001b[1;33m\u001b[0m\u001b[0m\n\u001b[0;32m      4\u001b[0m \u001b[0mprint\u001b[0m\u001b[1;33m(\u001b[0m\u001b[0mest2\u001b[0m\u001b[1;33m.\u001b[0m\u001b[0msummary\u001b[0m\u001b[1;33m(\u001b[0m\u001b[1;33m)\u001b[0m\u001b[1;33m)\u001b[0m\u001b[1;33m\u001b[0m\u001b[1;33m\u001b[0m\u001b[0m\n",
      "\u001b[1;31mNameError\u001b[0m: name 'sm' is not defined"
     ]
    }
   ],
   "source": [
    "X2 = sm.add_constant(np.array(X_train.values,dtype=float))\n",
    "est = sm.OLS(y_train.values, X2)\n",
    "est2 = est.fit()\n",
    "print(est2.summary())"
   ]
  },
  {
   "cell_type": "code",
   "execution_count": null,
   "metadata": {},
   "outputs": [],
   "source": []
  },
  {
   "cell_type": "code",
   "execution_count": null,
   "metadata": {},
   "outputs": [],
   "source": []
  },
  {
   "cell_type": "code",
   "execution_count": null,
   "metadata": {},
   "outputs": [],
   "source": []
  },
  {
   "cell_type": "code",
   "execution_count": 108,
   "metadata": {},
   "outputs": [],
   "source": [
    "from scipy import stats\n",
    "from sklearn.metrics import confusion_matrix, classification_report\n",
    "from sklearn.ensemble import RandomForestClassifier"
   ]
  },
  {
   "cell_type": "code",
   "execution_count": null,
   "metadata": {},
   "outputs": [],
   "source": [
    "clf = RandomForestClassifier(n_estimators=80, max_samples=500, max_features=0.5, min_samples_leaf=5)\n",
    "clf.fit(X_train.values, y_train.values)"
   ]
  },
  {
   "cell_type": "code",
   "execution_count": null,
   "metadata": {},
   "outputs": [],
   "source": []
  },
  {
   "cell_type": "code",
   "execution_count": null,
   "metadata": {},
   "outputs": [],
   "source": []
  },
  {
   "cell_type": "code",
   "execution_count": 55,
   "metadata": {},
   "outputs": [
    {
     "data": {
      "text/plain": [
       "0.8563200498132005"
      ]
     },
     "execution_count": 55,
     "metadata": {},
     "output_type": "execute_result"
    }
   ],
   "source": [
    "# To prepare data cleaning we first need to know how many answers we have to the Home Remote question\n",
    "prop_sals = 1 - df.isnull()['HomeRemote'].mean()\n",
    "prop_sals"
   ]
  },
  {
   "attachments": {},
   "cell_type": "markdown",
   "metadata": {},
   "source": [
    "we have ~14% of respondents not answering to the question. By categorizing Home Remote as a categorical variable 'RemotePossible' I categorized null values to 0, not possible to work from home. I feel that for this particular question it makes more sense to remove them completely from the dataset. "
   ]
  },
  {
   "cell_type": "code",
   "execution_count": null,
   "metadata": {},
   "outputs": [],
   "source": []
  },
  {
   "cell_type": "code",
   "execution_count": null,
   "metadata": {},
   "outputs": [],
   "source": []
  },
  {
   "cell_type": "code",
   "execution_count": null,
   "metadata": {},
   "outputs": [],
   "source": []
  },
  {
   "cell_type": "code",
   "execution_count": null,
   "metadata": {},
   "outputs": [],
   "source": []
  },
  {
   "cell_type": "code",
   "execution_count": 29,
   "metadata": {},
   "outputs": [
    {
     "data": {
      "text/plain": [
       "0    0\n",
       "1    0\n",
       "2    1\n",
       "3    0\n",
       "4    1\n",
       "Name: JobSatisfaction, dtype: int64"
      ]
     },
     "execution_count": 29,
     "metadata": {},
     "output_type": "execute_result"
    }
   ],
   "source": [
    "# In order to predict job satisfaction later, I decide to create a new categorical variable\n",
    "def higher_js(higher_js_float):\n",
    "    \"\"\"\n",
    "    INPUT\n",
    "        higher_js_float - a float of one of the values from the Job Satisfaction variable\n",
    "\n",
    "    OUTPUT\n",
    "        return 1 if the float is bigger or equal to 7\n",
    "        return 0 otherwise\n",
    "\n",
    "    \"\"\"\n",
    "    if higher_js_float >= 7:\n",
    "        return 1\n",
    "    else:\n",
    "        return 0\n",
    "\n",
    "\n",
    "df[\"JobSatisfaction\"].apply(higher_js)[\n",
    "    :5\n",
    "]  # Test your function to assure it provides 1 and 0 values for the df\n"
   ]
  },
  {
   "cell_type": "code",
   "execution_count": 30,
   "metadata": {},
   "outputs": [
    {
     "data": {
      "text/plain": [
       "0.5190107409713575"
      ]
     },
     "execution_count": 30,
     "metadata": {},
     "output_type": "execute_result"
    }
   ],
   "source": [
    "df[\"HigherJs\"] = df[\"JobSatisfaction\"].apply(higher_js)\n",
    "higher_js_perc = df[\"HigherJs\"].mean()\n",
    "higher_js_perc\n"
   ]
  },
  {
   "cell_type": "code",
   "execution_count": 31,
   "metadata": {},
   "outputs": [
    {
     "name": "stdout",
     "output_type": "stream",
     "text": [
      "2     1\n",
      "4     1\n",
      "7     1\n",
      "9     1\n",
      "10    1\n",
      "Name: HigherJs, dtype: int64\n",
      "0    0\n",
      "1    0\n",
      "3    0\n",
      "5    0\n",
      "6    0\n",
      "Name: HigherJs, dtype: int64\n"
     ]
    }
   ],
   "source": [
    "js_1 = df[df[\"HigherJs\"] == 1]  # Subset df to only those with JobSat of 1\n",
    "js_0 = df[df[\"HigherJs\"] == 0]  # Subset df to only those with JobSat of 0\n",
    "\n",
    "print(js_1[\"HigherJs\"][:5])  # Assure it looks like what you would expect\n",
    "print(js_0[\"HigherJs\"][:5])  # Assure it looks like what you would expect\n"
   ]
  },
  {
   "cell_type": "code",
   "execution_count": 41,
   "metadata": {},
   "outputs": [
    {
     "data": {
      "text/plain": [
       "FormalEducation\n",
       "I never completed any formal education                               6.833333\n",
       "Bachelor's degree                                                    6.866363\n",
       "Master's degree                                                      6.953151\n",
       "Primary/elementary school                                            6.956897\n",
       "I prefer not to answer                                               7.005682\n",
       "Some college/university study without earning a bachelor's degree    7.081334\n",
       "Professional degree                                                  7.087459\n",
       "Secondary school                                                     7.143082\n",
       "Doctoral degree                                                      7.348857\n",
       "Name: JobSatisfaction, dtype: float64"
      ]
     },
     "execution_count": 41,
     "metadata": {},
     "output_type": "execute_result"
    }
   ],
   "source": [
    "res = df.groupby([\"FormalEducation\"]).mean()[\"JobSatisfaction\"].sort_values().dropna()\n",
    "res\n"
   ]
  },
  {
   "cell_type": "code",
   "execution_count": 42,
   "metadata": {},
   "outputs": [],
   "source": [
    "def clean_data(df):\n",
    "    \"\"\"\n",
    "    INPUT\n",
    "    df - pandas dataframe\n",
    "\n",
    "    OUTPUT\n",
    "    X - A matrix holding all of the variables you want to consider when predicting the response\n",
    "    y - the corresponding response vector\n",
    "\n",
    "    This function cleans df using the following steps to produce X and y:\n",
    "    1. Drop all the rows with no salaries\n",
    "    2. Create X as all the columns that are not the Salary column\n",
    "    3. Create y as the Salary column\n",
    "    4. Drop the Salary, Respondent, and the ExpectedSalary columns from X\n",
    "    5. For each numeric variable in X, fill the column with the mean value of the column.\n",
    "    6. Create dummy columns for all the categorical variables in X, drop the original columns\n",
    "    \"\"\"\n",
    "    # Drop rows with missing salary values\n",
    "    df = df.dropna(subset=[\"Salary\"], axis=0)\n",
    "    y = df[\"Salary\"]\n",
    "\n",
    "    # Drop respondent and expected salary columns\n",
    "    df = df.drop([\"Respondent\", \"ExpectedSalary\", \"Salary\"], axis=1)\n",
    "\n",
    "    # Fill numeric columns with the mean\n",
    "    num_vars = df.select_dtypes(include=[\"float\", \"int\"]).columns\n",
    "    for col in num_vars:\n",
    "        df[col].fillna((df[col].mean()), inplace=True)\n",
    "\n",
    "    # Dummy the categorical variables\n",
    "    cat_vars = df.select_dtypes(include=[\"object\"]).copy().columns\n",
    "    for var in cat_vars:\n",
    "        # for each cat add dummy var, drop original column\n",
    "        df = pd.concat(\n",
    "            [\n",
    "                df.drop(var, axis=1),\n",
    "                pd.get_dummies(df[var], prefix=var, prefix_sep=\"_\", drop_first=True),\n",
    "            ],\n",
    "            axis=1,\n",
    "        )\n",
    "\n",
    "    X = df\n",
    "    return X, y\n",
    "\n",
    "\n",
    "# Use the function to create X and y\n",
    "X, y = clean_data(df)\n"
   ]
  },
  {
   "cell_type": "code",
   "execution_count": 25,
   "metadata": {},
   "outputs": [
    {
     "name": "stderr",
     "output_type": "stream",
     "text": [
      "c:\\Users\\Ramona\\anaconda3\\lib\\site-packages\\sklearn\\linear_model\\_base.py:141: FutureWarning:\n",
      "\n",
      "'normalize' was deprecated in version 1.0 and will be removed in 1.2.\n",
      "If you wish to scale the data, use Pipeline with a StandardScaler in a preprocessing stage. To reproduce the previous behavior:\n",
      "\n",
      "from sklearn.pipeline import make_pipeline\n",
      "\n",
      "model = make_pipeline(StandardScaler(with_mean=False), LinearRegression())\n",
      "\n",
      "If you wish to pass a sample_weight parameter, you need to pass it as a fit parameter to each step of the pipeline as follows:\n",
      "\n",
      "kwargs = {s[0] + '__sample_weight': sample_weight for s in model.steps}\n",
      "model.fit(X, y, **kwargs)\n",
      "\n",
      "\n",
      "\n"
     ]
    },
    {
     "data": {
      "text/plain": [
       "'The r-squared score for the model using only quantitative variables was 0.04072431792894726 on 3868 values.'"
      ]
     },
     "execution_count": 25,
     "metadata": {},
     "output_type": "execute_result"
    }
   ],
   "source": [
    "# Only use quant variables and drop any rows with missing values\n",
    "num_vars = df[\n",
    "    [\n",
    "        \"Salary\",\n",
    "        \"CareerSatisfaction\",\n",
    "        \"HoursPerWeek\",\n",
    "        \"JobSatisfaction\",\n",
    "        \"StackOverflowSatisfaction\",\n",
    "    ]\n",
    "]\n",
    "\n",
    "# Drop the rows with missing salaries\n",
    "drop_sal_df = num_vars.dropna(subset=[\"Salary\"], axis=0)\n",
    "\n",
    "# Mean function\n",
    "fill_mean = lambda col: col.fillna(col.mean())\n",
    "# Fill the mean\n",
    "fill_df = drop_sal_df.apply(fill_mean, axis=0)\n",
    "\n",
    "# Split into explanatory and response variables\n",
    "X = fill_df[\n",
    "    [\n",
    "        \"CareerSatisfaction\",\n",
    "        \"HoursPerWeek\",\n",
    "        \"JobSatisfaction\",\n",
    "        \"StackOverflowSatisfaction\",\n",
    "    ]\n",
    "]\n",
    "y = fill_df[\"Salary\"]\n",
    "\n",
    "# Split into train and test\n",
    "X_train, X_test, y_train, y_test = train_test_split(\n",
    "    X, y, test_size=0.30, random_state=42\n",
    ")\n",
    "\n",
    "lm_model = LinearRegression(normalize=True)  # Instantiate\n",
    "lm_model.fit(X_train, y_train)  # Fit\n",
    "\n",
    "# Predict and score the model\n",
    "y_test_preds = lm_model.predict(X_test)\n",
    "\"The r-squared score for the model using only quantitative variables was {} on {} values.\".format(\n",
    "    r2_score(y_test, y_test_preds), len(y_test)\n",
    ")\n"
   ]
  },
  {
   "cell_type": "markdown",
   "metadata": {},
   "source": []
  },
  {
   "cell_type": "markdown",
   "metadata": {},
   "source": []
  }
 ],
 "metadata": {
  "kernelspec": {
   "display_name": "base",
   "language": "python",
   "name": "python3"
  },
  "language_info": {
   "codemirror_mode": {
    "name": "ipython",
    "version": 3
   },
   "file_extension": ".py",
   "mimetype": "text/x-python",
   "name": "python",
   "nbconvert_exporter": "python",
   "pygments_lexer": "ipython3",
   "version": "3.9.13"
  },
  "orig_nbformat": 4
 },
 "nbformat": 4,
 "nbformat_minor": 2
}
